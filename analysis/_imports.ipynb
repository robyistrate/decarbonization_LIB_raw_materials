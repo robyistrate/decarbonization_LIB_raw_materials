{
 "cells": [
  {
   "cell_type": "code",
   "execution_count": 2,
   "metadata": {},
   "outputs": [],
   "source": [
    "import project_path\n",
    "import supporting_functions\n",
    "\n",
    "from pathlib import Path\n",
    "import brightway2 as bw\n",
    "import bw2io\n",
    "import wurst\n",
    "import pandas as pd\n",
    "import copy\n",
    "import datetime\n",
    "\n",
    "DATA_DIR = Path(\"../data\")\n",
    "INVENTORIES_PATH = Path(DATA_DIR / \"lci_LIB_raw_materials.xlsx\")\n",
    "RESULTS_IMPORT_DIR = DATA_DIR / \"results\"\n",
    "FIG_EXPORT_DIR = Path(\"../reports/figures\")"
   ]
  },
  {
   "cell_type": "code",
   "execution_count": null,
   "metadata": {},
   "outputs": [],
   "source": []
  }
 ],
 "metadata": {
  "kernelspec": {
   "display_name": "iri_ei39",
   "language": "python",
   "name": "python3"
  },
  "language_info": {
   "codemirror_mode": {
    "name": "ipython",
    "version": 3
   },
   "file_extension": ".py",
   "mimetype": "text/x-python",
   "name": "python",
   "nbconvert_exporter": "python",
   "pygments_lexer": "ipython3",
   "version": "3.10.2"
  }
 },
 "nbformat": 4,
 "nbformat_minor": 2
}
