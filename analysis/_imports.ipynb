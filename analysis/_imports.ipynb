{
 "cells": [
  {
   "cell_type": "code",
   "execution_count": 6,
   "metadata": {},
   "outputs": [],
   "source": [
    "import project_path\n",
    "import supporting_functions\n",
    "\n",
    "import pandas as pd\n",
    "import brightway2 as bw\n",
    "import wurst\n",
    "from pathlib import Path\n",
    "import copy\n",
    "import datetime\n",
    "\n",
    "import matplotlib.pyplot as plt\n",
    "from matplotlib.lines import Line2D\n",
    "from matplotlib.patches import Patch\n",
    "import matplotlib.lines as mlines\n",
    "import seaborn as sns\n",
    "\n",
    "DATA_DIR = Path(\"../data\")\n",
    "INVENTORIES_PATH = Path(DATA_DIR / \"lci_metals.xlsx\")\n",
    "\n",
    "RESULTS_IMPORT_DIR = DATA_DIR / \"results\"\n",
    "FIG_EXPORT_DIR = Path(\"../reports/figures\")\n",
    "\n",
    "CONTRIBUTORS_LIST = [\n",
    "    \"Electricity consumption\",\n",
    "    \"Process heating\",\n",
    "    \"Fuels consumption\",\n",
    "    \"Reagents consumption\",\n",
    "    \"Other\"\n",
    "    ]"
   ]
  },
  {
   "cell_type": "code",
   "execution_count": null,
   "metadata": {},
   "outputs": [],
   "source": []
  }
 ],
 "metadata": {
  "kernelspec": {
   "display_name": "iri_ei39",
   "language": "python",
   "name": "python3"
  },
  "language_info": {
   "codemirror_mode": {
    "name": "ipython",
    "version": 3
   },
   "file_extension": ".py",
   "mimetype": "text/x-python",
   "name": "python",
   "nbconvert_exporter": "python",
   "pygments_lexer": "ipython3",
   "version": "3.10.2"
  }
 },
 "nbformat": 4,
 "nbformat_minor": 2
}
