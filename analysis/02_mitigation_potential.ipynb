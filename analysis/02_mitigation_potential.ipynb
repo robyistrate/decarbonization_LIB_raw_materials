{
 "cells": [
  {
   "cell_type": "markdown",
   "metadata": {},
   "source": [
    "# Analysis of mitigation potential and trade-offs of decarbonization strategies\n",
    "\n",
    "**Implemented decarbonization strategies**\n",
    "\n",
    " S1. Decarbonization of on-site electricity consumption (switch to wind power + battery storage)\n",
    "\n",
    " S2. Improvements in energy efficiency (5% reduction, assuming an annual reduction of 0.5% over 10 years)\n",
    "\n",
    " S3. Decarbonization of process heat (electrification of heat)\n",
    "\n",
    " S4. Decarbonization of electricity in chemical indsutry (switch to wind power + battery storage)\n",
    "\n",
    " S5. Decarbonization of process heat in chemical industry (electrification of heat)"
   ]
  },
  {
   "cell_type": "code",
   "execution_count": 1,
   "metadata": {},
   "outputs": [],
   "source": [
    "%run _imports.ipynb\n",
    "\n",
    "BW_PROJECT = 'lib_rm' # insert your project name here\n",
    "bw.projects.set_current(BW_PROJECT)"
   ]
  },
  {
   "cell_type": "markdown",
   "metadata": {},
   "source": [
    "## Create LCI databases with implemented decarbonization strategies"
   ]
  },
  {
   "cell_type": "code",
   "execution_count": 2,
   "metadata": {},
   "outputs": [],
   "source": [
    "EI_DB_NAME = 'ecoinvent-3.10-cutoff'   # name of ecoinvent database in your project\n",
    "LIB_RM_DB_NAME = \"LIB raw materials\"   # name of databases containing LCIs for LIB raw materials\n",
    "\n",
    "# List of LCI databases for decarbonization strategies\n",
    "dbs_strategies = {\n",
    "    \"BAU\": LIB_RM_DB_NAME,\n",
    "    \"ONSITE_ELEC\": LIB_RM_DB_NAME + \", ONSITE_ELEC\",\n",
    "    \"ENERGY_EFF\": LIB_RM_DB_NAME + \", ONSITE_ELEC + ENERGY_EFF\",\n",
    "    \"PROCESS_HEAT\": LIB_RM_DB_NAME + \", ONSITE_ELEC + ENERGY_EFF + PROCESS_HEAT\",\n",
    "    \"CHEMICALS_DECARB\": LIB_RM_DB_NAME + \", ONSITE_ELEC + ENERGY_EFF + PROCESS_HEAT + CHEMICALS_DECARB\",\n",
    "    \"GLOBAL_ELEC\": LIB_RM_DB_NAME + \", ONSITE_ELEC + ENERGY_EFF + PROCESS_HEAT + CHEMICALS_ELEC + GLOBAL_ELEC\",\n",
    "}\n",
    "\n",
    "technosphere = lambda x: x[\"type\"] == \"technosphere\"\n",
    "biosphere = lambda x: x[\"type\"] == \"biosphere\"\n",
    "\n",
    "breakdown_lists = supporting_functions.get_breakdown_lists()\n",
    "inventories_breakdown = pd.read_excel(INVENTORIES_PATH, sheet_name=\"Datasets for breakdown\", index_col=0, skiprows=1)"
   ]
  },
  {
   "cell_type": "code",
   "execution_count": 3,
   "metadata": {},
   "outputs": [
    {
     "name": "stdout",
     "output_type": "stream",
     "text": [
      "Getting activity data\n"
     ]
    },
    {
     "name": "stderr",
     "output_type": "stream",
     "text": [
      "100%|██████████| 23523/23523 [00:00<00:00, 159366.90it/s]\n"
     ]
    },
    {
     "name": "stdout",
     "output_type": "stream",
     "text": [
      "Adding exchange data to activities\n"
     ]
    },
    {
     "name": "stderr",
     "output_type": "stream",
     "text": [
      "100%|██████████| 743409/743409 [01:31<00:00, 8166.48it/s] \n"
     ]
    },
    {
     "name": "stdout",
     "output_type": "stream",
     "text": [
      "Filling out exchange data\n"
     ]
    },
    {
     "name": "stderr",
     "output_type": "stream",
     "text": [
      "100%|██████████| 23523/23523 [00:09<00:00, 2456.86it/s]\n"
     ]
    },
    {
     "name": "stdout",
     "output_type": "stream",
     "text": [
      "Getting activity data\n"
     ]
    },
    {
     "name": "stderr",
     "output_type": "stream",
     "text": [
      "100%|██████████| 31/31 [00:00<00:00, 31002.25it/s]\n"
     ]
    },
    {
     "name": "stdout",
     "output_type": "stream",
     "text": [
      "Adding exchange data to activities\n"
     ]
    },
    {
     "name": "stderr",
     "output_type": "stream",
     "text": [
      "100%|██████████| 498/498 [00:00<00:00, 12097.13it/s]\n"
     ]
    },
    {
     "name": "stdout",
     "output_type": "stream",
     "text": [
      "Filling out exchange data\n"
     ]
    },
    {
     "name": "stderr",
     "output_type": "stream",
     "text": [
      "100%|██████████| 31/31 [00:00<00:00, 55.49it/s]\n"
     ]
    }
   ],
   "source": [
    "# Import ecoinvent database into wurst format (i.e., list of dictionary, each dict being a dataset)\n",
    "try:\n",
    "  len(ei_db)\n",
    "except NameError:\n",
    "  ei_db = wurst.extract_brightway2_databases(EI_DB_NAME)\n",
    "\n",
    "# Import LIB raw materials inventories into wurst format (i.e., list of dictionary, each dict being a dataset)\n",
    "try:\n",
    "  len(lib_rm_db)\n",
    "except NameError:\n",
    "  lib_rm_db = wurst.extract_brightway2_databases(LIB_RM_DB_NAME)\n",
    "\n",
    "# Import biosphere database into dictionary\n",
    "biosphere_db = [ef.as_dict() for ef in bw.Database('ecoinvent-3.10-biosphere')]"
   ]
  },
  {
   "cell_type": "code",
   "execution_count": 4,
   "metadata": {},
   "outputs": [],
   "source": [
    "# Datasets used to model decarbonization strategies\n",
    "\n",
    "# On-site electricity source shifts to wind onshore + battery storage\n",
    "wind_filter = {\n",
    "    'name': \"electricity production, wind, 1-3MW turbine, onshore\",\n",
    "    'product': \"electricity, high voltage\",\n",
    "    'unit': \"kilowatt hour\"\n",
    "    }\n",
    "\n",
    "wind_battery_system_filter = {\n",
    "    'name': \"electricity consumption, wind, 3MW turbine, onshore, with LFP battery storage\",\n",
    "    'product': \"electricity, high voltage\",\n",
    "    'unit': \"kilowatt hour\"\n",
    "    }\n",
    "\n",
    "battery_filter = {\n",
    "    'name': \"electricity production, wind, 3MW turbine, onshore, at LFP battery\",\n",
    "    'product': \"electricity, high voltage\",\n",
    "    'unit': \"kilowatt hour\"\n",
    "    }\n",
    "\n",
    "# Process heat is electrified\n",
    "heat_low_temp_filter = {\n",
    "    'name': \"heat production, at heat pump 30kW, allocation exergy\",\n",
    "    'product': \"heat, central or small-scale, other than natural gas\",\n",
    "    'unit': \"megajoule\"\n",
    "    }\n",
    "\n",
    "heat_high_temp_filter = {\n",
    "    'name': \"heat production, electric furnace\",\n",
    "    'product': \"heat, district or industrial, other than natural gas\",\n",
    "    'unit': \"megajoule\"\n",
    "    }\n",
    "\n",
    "# List of countries for LIB raw materials production processes\n",
    "list_countries_LIB = list(set([ds[\"location\"] for ds in lib_rm_db if ds[\"location\"]]))"
   ]
  },
  {
   "cell_type": "markdown",
   "metadata": {},
   "source": [
    "### 1. Decarbonization of on-site electricity consumption"
   ]
  },
  {
   "cell_type": "code",
   "execution_count": 5,
   "metadata": {},
   "outputs": [],
   "source": [
    "# Copy of databases for modification:\n",
    "ONSITE_ELEC_db = copy.deepcopy(lib_rm_db)"
   ]
  },
  {
   "cell_type": "code",
   "execution_count": 6,
   "metadata": {},
   "outputs": [
    {
     "name": "stderr",
     "output_type": "stream",
     "text": [
      "RoE not found in ISO3\n",
      "CN-SWG not found in regex\n",
      "AU-WA not found in regex\n",
      "AU-NSW not found in regex\n",
      "AU-SA not found in regex\n",
      "CN-CCG not found in regex\n",
      "CN-ECGC not found in regex\n",
      "AU-VIC not found in regex\n",
      "Europe,  not found in regex\n",
      "AU-QLD not found in regex\n",
      "AU-TAS not found in regex\n",
      "CN-NWG not found in regex\n",
      "CN-NECG not found in regex\n",
      "BR-South-eastern/Mid-western grid not found in regex\n",
      "CN-NCGC not found in regex\n"
     ]
    }
   ],
   "source": [
    "# Create country markets for wind electricity generation for countries \n",
    "# with higher regionalization\n",
    "countries = [\"CN\", \"CA\", \"IN\", \"US\"]\n",
    "wind_elec_country_markets = supporting_functions.create_renewable_electricity_country_market(\n",
    "    wind_filter[\"name\"], countries, ei_db, dbs_strategies[\"ONSITE_ELEC\"])\n",
    "\n",
    "# Add new markets to the database:\n",
    "ONSITE_ELEC_db.extend(wind_elec_country_markets)\n",
    "\n",
    "# Create a dictionary with wind electricity dataset for each location in ecoinvent\n",
    "wind_elec_ds_locs = {}\n",
    "ei_locs = list(set([ds[\"location\"] for ds in ei_db]))\n",
    "\n",
    "for loc in ei_locs:\n",
    "    if loc not in wind_elec_ds_locs:\n",
    "\n",
    "        if loc in countries:\n",
    "            wind_filter_market = copy.deepcopy(wind_filter)\n",
    "            wind_filter_market.update({\n",
    "                \"name\": \"market for \" + wind_filter[\"name\"]\n",
    "            })\n",
    "            wind_ds = supporting_functions.get_dataset_for_location(wind_filter_market, loc, wind_elec_country_markets)\n",
    "        else:\n",
    "            try:\n",
    "                wind_ds = supporting_functions.get_dataset_for_location(wind_filter, loc, ei_db)\n",
    "            except KeyError:\n",
    "                wind_ds = supporting_functions.get_dataset_for_location(wind_filter, \"RoW\", ei_db)\n",
    "            \n",
    "        wind_elec_ds_locs[loc] = wind_ds"
   ]
  },
  {
   "cell_type": "code",
   "execution_count": 7,
   "metadata": {},
   "outputs": [],
   "source": [
    "# Regionalize wind-battery system and battery datasets\n",
    "\n",
    "# Get wind-battery system and battery datasets\n",
    "wind_battery_system_ds = supporting_functions.get_dataset_for_location(wind_battery_system_filter, \"GLO\", ONSITE_ELEC_db)\n",
    "battery_ds = supporting_functions.get_dataset_for_location(battery_filter, \"GLO\", ONSITE_ELEC_db)\n",
    "\n",
    "for loc in list_countries_LIB:\n",
    "\n",
    "    if loc == \"GLO\":\n",
    "        # GLO datasets already exist\n",
    "        pass\n",
    "    else:\n",
    "        # Replicate wind-battery system and battery datasets to location\n",
    "        wind_battery_system_loc = supporting_functions.replicate_activity_to_location(wind_battery_system_ds, loc, ei_db + ONSITE_ELEC_db, dbs_strategies[\"ONSITE_ELEC\"])\n",
    "        battery_loc = supporting_functions.replicate_activity_to_location(battery_ds, loc, ei_db + ONSITE_ELEC_db, dbs_strategies[\"ONSITE_ELEC\"])\n",
    "\n",
    "        #... and substitute wind power and battery input in that location\n",
    "        for ds in [wind_battery_system_loc, battery_loc]:\n",
    "            for exc in filter(technosphere, ds[\"exchanges\"]):\n",
    "                if exc['name'] == \"electricity production, wind, 1-3MW turbine, onshore\":\n",
    "                    exc.update({\n",
    "                            'name': wind_elec_ds_locs[loc]['name'],\n",
    "                            'product': wind_elec_ds_locs[loc]['reference product'],\n",
    "                            'location': wind_elec_ds_locs[loc]['location'],\n",
    "                            'input': (wind_elec_ds_locs[loc]['database'], wind_elec_ds_locs[loc]['code'])}\n",
    "                        )\n",
    "\n",
    "                elif exc['name'] == \"electricity production, wind, 3MW turbine, onshore, at LFP battery\":\n",
    "                    exc.update({\n",
    "                        'name': battery_loc['name'],\n",
    "                        'product': battery_loc['reference product'],\n",
    "                        'location': battery_loc['location'],\n",
    "                        'input': (battery_loc['database'], battery_loc['code'])}\n",
    "                        )\n",
    "\n",
    "            ONSITE_ELEC_db.append(ds)"
   ]
  },
  {
   "cell_type": "code",
   "execution_count": 8,
   "metadata": {},
   "outputs": [],
   "source": [
    "# Switch LIB raw materials proudction processes to wind power coupled with battery storage\n",
    "\n",
    "# Get wind-batery system dataset for each location with LIB raw materials production:\n",
    "wind_battery_ds_locs = {}\n",
    "for loc in list_countries_LIB:\n",
    "    wind_battery_ds_locs[loc] = [a for a in ONSITE_ELEC_db if a['name'] == wind_battery_system_filter[\"name\"] and a[\"location\"] == loc]\n",
    "\n",
    "# Switch to wind power coupled with battery storage\n",
    "for ds in ONSITE_ELEC_db:\n",
    "    # Only for LIB raw materials production processes\n",
    "    if ds[\"name\"] in list(inventories_breakdown[\"name\"]):\n",
    "\n",
    "        # Replace electricity with wind-battery system in the activities\n",
    "        for exc in filter(technosphere, ds[\"exchanges\"]):\n",
    "            if exc['product'] in ['electricity, low voltage', \"electricity, medium voltage\", \"electricity, high voltage\"]:\n",
    "                exc.update({\n",
    "                    'name': wind_battery_ds_locs[exc[\"location\"]][0]['name'],\n",
    "                    'product': wind_battery_ds_locs[exc[\"location\"]][0]['reference product'],\n",
    "                    'location': wind_battery_ds_locs[exc[\"location\"]][0]['location'],\n",
    "                    'input': (wind_battery_ds_locs[exc[\"location\"]][0]['database'], wind_battery_ds_locs[exc[\"location\"]][0]['code'])})"
   ]
  },
  {
   "cell_type": "code",
   "execution_count": 19,
   "metadata": {},
   "outputs": [
    {
     "name": "stderr",
     "output_type": "stream",
     "text": [
      "Writing activities to SQLite3 database:\n"
     ]
    },
    {
     "name": "stdout",
     "output_type": "stream",
     "text": [
      "45 datasets\n",
      "646 exchanges\n",
      "0 unlinked exchanges\n",
      "  \n"
     ]
    },
    {
     "name": "stderr",
     "output_type": "stream",
     "text": [
      "0% [##############################] 100% | ETA: 00:00:00\n",
      "Total time elapsed: 00:00:00\n"
     ]
    },
    {
     "name": "stdout",
     "output_type": "stream",
     "text": [
      "Title: Writing activities to SQLite3 database:\n",
      "  Started: 07/31/2024 00:00:22\n",
      "  Finished: 07/31/2024 00:00:22\n",
      "  Total time elapsed: 00:00:00\n",
      "  CPU %: 19.90\n",
      "  Memory %: 36.90\n",
      "Created database: LIB raw materials, ONSITE_ELEC\n"
     ]
    }
   ],
   "source": [
    "if dbs_strategies[\"ONSITE_ELEC\"] in bw.databases:\n",
    "    del bw.databases[dbs_strategies[\"ONSITE_ELEC\"]]\n",
    "wurst.write_brightway2_database(ONSITE_ELEC_db, dbs_strategies[\"ONSITE_ELEC\"])"
   ]
  },
  {
   "cell_type": "markdown",
   "metadata": {},
   "source": [
    "### 2. Improvements in energy efficiency"
   ]
  },
  {
   "cell_type": "code",
   "execution_count": 9,
   "metadata": {},
   "outputs": [],
   "source": [
    "# Copy of databases for modification:\n",
    "ENERGY_EFF_db = copy.deepcopy(ONSITE_ELEC_db)\n",
    "\n",
    "# 5% improvement in energy efficiency\n",
    "ENERGY_EFF_IMPROV = 0.05"
   ]
  },
  {
   "cell_type": "code",
   "execution_count": 10,
   "metadata": {},
   "outputs": [],
   "source": [
    "# Reduce electricity and heat consumption by the energy efficiency improvement\n",
    "for ds in ENERGY_EFF_db:\n",
    "    \n",
    "    # Energy efficiency improvements do not apply to the wind-battery system and battery dataset:\n",
    "    if ds[\"name\"] in [\"electricity consumption, wind, 3MW turbine, onshore, with LFP battery storage\",\n",
    "                      \"electricity production, wind, 3MW turbine, onshore, at LFP battery\"]:\n",
    "      pass\n",
    "    \n",
    "    else:\n",
    "      for exc in filter(technosphere, ds[\"exchanges\"]):\n",
    "              if exc['product'] in breakdown_lists[\"electricity products\"] + \\\n",
    "                                  breakdown_lists[\"heating products\"] + \\\n",
    "                                  [\"diesel, burned in building machine\", \"machine operation, diesel, >= 74.57 kW, high load factor\"]:  \n",
    "                    exc.update({\n",
    "                      'amount': exc[\"amount\"] * (1 - ENERGY_EFF_IMPROV)\n",
    "                    })"
   ]
  },
  {
   "cell_type": "code",
   "execution_count": 24,
   "metadata": {},
   "outputs": [
    {
     "name": "stderr",
     "output_type": "stream",
     "text": [
      "Writing activities to SQLite3 database:\n"
     ]
    },
    {
     "name": "stdout",
     "output_type": "stream",
     "text": [
      "45 datasets\n",
      "646 exchanges\n",
      "0 unlinked exchanges\n",
      "  \n"
     ]
    },
    {
     "name": "stderr",
     "output_type": "stream",
     "text": [
      "0% [##############################] 100% | ETA: 00:00:00\n",
      "Total time elapsed: 00:00:00\n"
     ]
    },
    {
     "name": "stdout",
     "output_type": "stream",
     "text": [
      "Title: Writing activities to SQLite3 database:\n",
      "  Started: 07/31/2024 00:01:41\n",
      "  Finished: 07/31/2024 00:01:41\n",
      "  Total time elapsed: 00:00:00\n",
      "  CPU %: 87.50\n",
      "  Memory %: 36.92\n",
      "Created database: LIB raw materials, ONSITE_ELEC + ENERGY_EFF\n"
     ]
    }
   ],
   "source": [
    "if dbs_strategies[\"ENERGY_EFF\"] in bw.databases:\n",
    "    del bw.databases[dbs_strategies[\"ENERGY_EFF\"]]\n",
    "wurst.write_brightway2_database(ENERGY_EFF_db, dbs_strategies[\"ENERGY_EFF\"])"
   ]
  },
  {
   "cell_type": "markdown",
   "metadata": {},
   "source": [
    "### 3. Electrification of process heat"
   ]
  },
  {
   "cell_type": "code",
   "execution_count": 82,
   "metadata": {},
   "outputs": [],
   "source": [
    "# Copy of databases for modification:\n",
    "PROCESS_HEAT_db = copy.deepcopy(ENERGY_EFF_db)"
   ]
  },
  {
   "cell_type": "code",
   "execution_count": 83,
   "metadata": {},
   "outputs": [],
   "source": [
    "# Create regionalized heat pump and electric furnace datasets:\n",
    "\n",
    "# Get heat pump and electric furnace dataset\n",
    "heat_pump_ds = supporting_functions.get_dataset_for_location(heat_low_temp_filter, \"RoW\", ei_db)\n",
    "elec_furnace_ds = supporting_functions.get_dataset_for_location(heat_high_temp_filter, \"GLO\", PROCESS_HEAT_db)\n",
    "\n",
    "for loc in list_countries_LIB:\n",
    "    # Create heat pump and electric furnace datasets for location \n",
    "    heat_pump_loc = supporting_functions.replicate_activity_to_location(heat_pump_ds, loc, ei_db + PROCESS_HEAT_db, dbs_strategies[\"PROCESS_HEAT\"])\n",
    "    elec_furnace_loc = supporting_functions.replicate_activity_to_location(elec_furnace_ds, loc, ei_db + PROCESS_HEAT_db, dbs_strategies[\"PROCESS_HEAT\"])\n",
    "\n",
    "    if loc == \"GLO\":\n",
    "        # Electric furnace already exists for \"GLO\"\n",
    "        ds_to_chage = [heat_pump_loc]\n",
    "    else:\n",
    "        ds_to_chage = [heat_pump_loc, elec_furnace_loc]\n",
    "    \n",
    "    # Replace electricity with wind-battery system in the activities\n",
    "    for ds in ds_to_chage:\n",
    "        for exc in filter(technosphere, ds[\"exchanges\"]):\n",
    "            if exc['product'] in breakdown_lists[\"electricity products\"]:\n",
    "                exc.update({\n",
    "                    'name': wind_battery_ds_locs[ds[\"location\"]][0]['name'],\n",
    "                    'product': wind_battery_ds_locs[ds[\"location\"]][0]['reference product'],\n",
    "                    'location': wind_battery_ds_locs[ds[\"location\"]][0]['location'],\n",
    "                    'input': (dbs_strategies[\"PROCESS_HEAT\"], wind_battery_ds_locs[ds[\"location\"]][0]['code'])})\n",
    "            \n",
    "        PROCESS_HEAT_db.append(ds)\n",
    "\n",
    "# Replace electricity with wind-battery system in the the\n",
    "# existing GLO electric furnace dataset\n",
    "for ds in PROCESS_HEAT_db:\n",
    "    if ds[\"name\"] == elec_furnace_ds[\"name\"] and ds[\"location\"] == \"GLO\":\n",
    "        for exc in filter(technosphere, ds[\"exchanges\"]):\n",
    "            if exc['product'] in breakdown_lists[\"electricity products\"]:\n",
    "                exc.update({\n",
    "                    'name': wind_battery_ds_locs[ds[\"location\"]][0]['name'],\n",
    "                    'product': wind_battery_ds_locs[ds[\"location\"]][0]['reference product'],\n",
    "                    'location': wind_battery_ds_locs[ds[\"location\"]][0]['location'],\n",
    "                    'input': (dbs_strategies[\"PROCESS_HEAT\"], wind_battery_ds_locs[ds[\"location\"]][0]['code'])})"
   ]
  },
  {
   "cell_type": "code",
   "execution_count": 84,
   "metadata": {},
   "outputs": [
    {
     "data": {
      "text/plain": [
       "[{'classifications': [('EcoSpold01Categories', 'heat pumps/heating systems'),\n",
       "   ('ISIC rev.4 ecoinvent', '3530:Steam and air conditioning supply'),\n",
       "   ('CPC', '17300: Steam and hot water')],\n",
       "  'comment': 'Heat from 30 kW heat pump installed at 160kW cogeneration unit.\\n[This dataset was already contained in the ecoinvent database version 2. It was not individually updated during the transfer to ecoinvent version 3. Life Cycle Impact Assessment results may still have changed, as they are affected by changes in the supply chain, i.e. in other datasets. This dataset was generated following the ecoinvent quality guidelines for version 2. It may have been subject to central changes described in the ecoinvent version 3 change report (http://www.ecoinvent.org/database/ecoinvent-version-3/reports-of-changes/), and the results of the central updates were reviewed extensively. The changes added e.g. consistent water flows and other information throughout the database. The documentation of this dataset can be found in the ecoinvent reports of version 2, which are still available via the ecoinvent website. The change report linked above covers all central changes that were made during the conversion process.]\\nGeography:  Could be used for European conditions.\\nTechnology:  none',\n",
       "  'location': 'GLO',\n",
       "  'database': 'LIB raw materials, ONSITE_ELEC + ENERGY_EFF + PROCESS_HEAT',\n",
       "  'code': '5c23e3f0e87a4a5d897021c857d15f29',\n",
       "  'name': 'heat production, at heat pump 30kW, allocation exergy',\n",
       "  'reference product': 'heat, central or small-scale, other than natural gas',\n",
       "  'unit': 'megajoule',\n",
       "  'exchanges': [{'uncertainty type': 0,\n",
       "    'loc': 1.0,\n",
       "    'amount': 1.0,\n",
       "    'type': 'production',\n",
       "    'production volume': 177475882854.0,\n",
       "    'product': 'heat, central or small-scale, other than natural gas',\n",
       "    'name': 'heat production, at heat pump 30kW, allocation exergy',\n",
       "    'unit': 'megajoule',\n",
       "    'location': 'GLO',\n",
       "    'database': 'LIB raw materials, ONSITE_ELEC + ENERGY_EFF + PROCESS_HEAT',\n",
       "    'input': ('LIB raw materials, ONSITE_ELEC + ENERGY_EFF + PROCESS_HEAT',\n",
       "     '5c23e3f0e87a4a5d897021c857d15f29')},\n",
       "   {'uncertainty type': 2,\n",
       "    'loc': -10.563856017419576,\n",
       "    'scale': 0.2280350850198276,\n",
       "    'amount': 0.061699999999999984,\n",
       "    'pedigree': {'reliability': 1,\n",
       "     'completeness': 1,\n",
       "     'temporal correlation': 5,\n",
       "     'geographical correlation': 5,\n",
       "     'further technological correlation': 1},\n",
       "    'type': 'technosphere',\n",
       "    'production volume': 0.0,\n",
       "    'product': 'electricity, high voltage',\n",
       "    'name': 'electricity consumption, wind, 3MW turbine, onshore, with LFP battery storage',\n",
       "    'unit': 'kilowatt hour',\n",
       "    'location': 'GLO',\n",
       "    'database': 'ecoinvent-3.10-cutoff',\n",
       "    'input': ('LIB raw materials, ONSITE_ELEC + ENERGY_EFF + PROCESS_HEAT',\n",
       "     '72d01fc6d16e861e5ebcdd693e731494')},\n",
       "   {'uncertainty type': 2,\n",
       "    'loc': -17.1765261499936,\n",
       "    'scale': 0.2863564212655271,\n",
       "    'amount': 3.47e-08,\n",
       "    'pedigree': {'reliability': 1,\n",
       "     'completeness': 1,\n",
       "     'temporal correlation': 5,\n",
       "     'geographical correlation': 5,\n",
       "     'further technological correlation': 1},\n",
       "    'type': 'technosphere',\n",
       "    'production volume': 0.0,\n",
       "    'product': 'heat pump, 30kW',\n",
       "    'name': 'market for heat pump, 30kW',\n",
       "    'unit': 'unit',\n",
       "    'location': 'GLO',\n",
       "    'database': 'ecoinvent-3.10-cutoff',\n",
       "    'input': ('ecoinvent-3.10-cutoff', 'a2c47f4a374b6a31d46c8c1962930084')},\n",
       "   {'uncertainty type': 2,\n",
       "    'loc': -14.74945622507715,\n",
       "    'scale': 0.33466401061363027,\n",
       "    'amount': 3.93e-07,\n",
       "    'pedigree': {'reliability': 1,\n",
       "     'completeness': 1,\n",
       "     'temporal correlation': 5,\n",
       "     'geographical correlation': 5,\n",
       "     'further technological correlation': 1},\n",
       "    'type': 'biosphere',\n",
       "    'production volume': 0.0,\n",
       "    'input': ('ecoinvent-3.10-biosphere',\n",
       "     'fa0c2bee-8dd9-4f8a-8489-b1f3b43de958'),\n",
       "    'name': '1,1,1,2-Tetrafluoroethane',\n",
       "    'product': None,\n",
       "    'unit': 'kilogram',\n",
       "    'location': None,\n",
       "    'database': 'ecoinvent-3.10-biosphere',\n",
       "    'categories': ('air', 'urban air close to ground')}],\n",
       "  'parameters': {},\n",
       "  'parameters full': []}]"
      ]
     },
     "execution_count": 84,
     "metadata": {},
     "output_type": "execute_result"
    }
   ],
   "source": [
    "[ds for ds in PROCESS_HEAT_db if ds[\"name\"]==heat_pump_loc[\"name\"] and ds[\"location\"] == \"GLO\"]"
   ]
  },
  {
   "cell_type": "code",
   "execution_count": 85,
   "metadata": {},
   "outputs": [],
   "source": [
    "# Substitute heat sources in LIB raw material datasets:\n",
    "\n",
    "low_temperature_ds = [\n",
    "    \"lithium brine production, from evaporation pond, Salar de Atacama\",\n",
    "    \"lithium brine purification, Salar de Atacama\",\n",
    "    \"lithium carbonate production, Salar de Atacama\",\n",
    "    \"lithium hydroxide production, Salar de Atacama\"\n",
    "]\n",
    "\n",
    "for ds in PROCESS_HEAT_db:\n",
    "    if ds[\"name\"] in list(inventories_breakdown[\"name\"]):\n",
    "\n",
    "        # Low-temperature heat is supplied by heat pumps\n",
    "        if ds[\"name\"] in low_temperature_ds:\n",
    "            electrified_heat_ds = supporting_functions.get_dataset_for_location(heat_low_temp_filter, ds[\"location\"], PROCESS_HEAT_db)\n",
    "        else:\n",
    "            electrified_heat_ds = supporting_functions.get_dataset_for_location(heat_high_temp_filter, ds[\"location\"], PROCESS_HEAT_db)\n",
    "\n",
    "        for exc in filter(technosphere, ds[\"exchanges\"]):\n",
    "            if exc['product'] in breakdown_lists[\"heating products\"]:\n",
    "                exc.update({\n",
    "                    'name': electrified_heat_ds['name'],\n",
    "                    'product': electrified_heat_ds['reference product'],\n",
    "                    'location': electrified_heat_ds['location'],\n",
    "                    \"database\": electrified_heat_ds['database'],\n",
    "                    'input': (electrified_heat_ds['database'], electrified_heat_ds['code'])})"
   ]
  },
  {
   "cell_type": "code",
   "execution_count": 86,
   "metadata": {},
   "outputs": [
    {
     "name": "stderr",
     "output_type": "stream",
     "text": [
      "Writing activities to SQLite3 database:\n"
     ]
    },
    {
     "name": "stdout",
     "output_type": "stream",
     "text": [
      "56 datasets\n",
      "680 exchanges\n",
      "0 unlinked exchanges\n",
      "  \n"
     ]
    },
    {
     "name": "stderr",
     "output_type": "stream",
     "text": [
      "0% [##############################] 100% | ETA: 00:00:00\n",
      "Total time elapsed: 00:00:00\n"
     ]
    },
    {
     "name": "stdout",
     "output_type": "stream",
     "text": [
      "Title: Writing activities to SQLite3 database:\n",
      "  Started: 07/31/2024 09:33:10\n",
      "  Finished: 07/31/2024 09:33:10\n",
      "  Total time elapsed: 00:00:00\n",
      "  CPU %: 0.00\n",
      "  Memory %: 14.70\n",
      "Created database: LIB raw materials, ONSITE_ELEC + ENERGY_EFF + PROCESS_HEAT\n"
     ]
    }
   ],
   "source": [
    "if dbs_strategies[\"PROCESS_HEAT\"] in bw.databases:\n",
    "    del bw.databases[dbs_strategies[\"PROCESS_HEAT\"]]\n",
    "wurst.write_brightway2_database(PROCESS_HEAT_db, dbs_strategies[\"PROCESS_HEAT\"])"
   ]
  },
  {
   "cell_type": "markdown",
   "metadata": {},
   "source": [
    "### 4. Decarbonization of electricity and heat in reagents production"
   ]
  },
  {
   "cell_type": "code",
   "execution_count": 104,
   "metadata": {},
   "outputs": [],
   "source": [
    "# Copy of databases for modification:\n",
    "CHEMICALS_DECARB_db = copy.deepcopy(PROCESS_HEAT_db)\n",
    "ei_CHEMICALS_DECARB_db = copy.deepcopy(ei_db)\n",
    "\n",
    "ei_CHEMICALS_DECARB_db_name = EI_DB_NAME + \" + CHEMICALS_DECARB\""
   ]
  },
  {
   "cell_type": "code",
   "execution_count": 105,
   "metadata": {},
   "outputs": [],
   "source": [
    "# Since some of the chemicals used in LIB raw materials rely on\n",
    "# other chemicals produced upstream, we need to ensure that\n",
    "# all upstreams processes also switch to wind power and electrified heat. \n",
    "# Therefore, we change all the datasets under these categories:\n",
    "\n",
    "chemicals_ISIC_categories = [\n",
    "    '1920:Manufacture of refined petroleum products',\n",
    "    '1040:Manufacture of vegetable and animal oils and fats',\n",
    "    '2394:Manufacture of cement, lime and plaster',\n",
    "    '0891:Mining of chemical and fertilizer minerals',\n",
    "    '2011:Manufacture of basic chemicals',\n",
    "    '0810:Quarrying of stone, sand and clay',\n",
    "    '2012:Manufacture of fertilizers and nitrogen compounds',\n",
    "    '2030:Manufacture of man-made fibres',\n",
    "    '2013:Manufacture of plastics and synthetic rubber in primary forms',\n",
    "    '2100:Manufacture of pharmaceuticals, medicinal chemical and botanical products',\n",
    "    '2029:Manufacture of other chemical products n.e.c.',\n",
    "    '2220:Manufacture of plastics products',\n",
    "    '201:Manufacture of basic chemicals, fertilizers and nitrogen compounds, plastics',\n",
    "    '20:Manufacture of chemicals and chemical products',\n",
    "    '2023:Manufacture of soap and detergents, cleaning and polishing preparations, pe'\n",
    "]"
   ]
  },
  {
   "cell_type": "code",
   "execution_count": 106,
   "metadata": {},
   "outputs": [],
   "source": [
    "# Create an ecoinvent database where reagents production is \n",
    "# powered by wind-battery system and electrified heat\n",
    "elec_furnace_GLO = supporting_functions.get_dataset_for_location(heat_high_temp_filter, \"GLO\", lib_rm_db)\n",
    "wind_battery_system_GLO = supporting_functions.get_dataset_for_location(wind_battery_system_filter, \"GLO\", lib_rm_db)\n",
    "battery_GLO = supporting_functions.get_dataset_for_location(battery_filter, \"GLO\", lib_rm_db)\n",
    "\n",
    "for ds in ei_CHEMICALS_DECARB_db:\n",
    "    product_category = [i[1] for i in ds[\"classifications\"] if i[0] == 'ISIC rev.4 ecoinvent']\n",
    "    \n",
    "    if len(product_category) > 0:\n",
    "        if product_category[0] in chemicals_ISIC_categories:\n",
    "\n",
    "            for exc in filter(technosphere, ds[\"exchanges\"]):\n",
    "\n",
    "                # Switch input electricity to wind-battery system (using GLO dataset)\n",
    "                if exc['product'] in breakdown_lists[\"electricity products\"]:\n",
    "                    exc.update({\n",
    "                            'name': wind_battery_system_GLO['name'],\n",
    "                            'product': wind_battery_system_GLO['reference product'],\n",
    "                            'location': wind_battery_system_GLO['location'],\n",
    "                            'input': (dbs_strategies[\"PROCESS_HEAT\"], wind_battery_system_GLO['code'])}\n",
    "                        )\n",
    "                \n",
    "                # Switch input process heat to electric furnace powereed by wind-battery system (using GLO dataset)\n",
    "                elif exc['product'] in breakdown_lists[\"heating products\"]:\n",
    "                    exc.update({\n",
    "                        'name': elec_furnace_ds['name'],\n",
    "                        'product': elec_furnace_ds['reference product'],\n",
    "                        'location': elec_furnace_ds['location'],\n",
    "                        \"database\": elec_furnace_ds['database'],\n",
    "                        'input': (dbs_strategies[\"PROCESS_HEAT\"], elec_furnace_ds['code'])}\n",
    "                    )"
   ]
  },
  {
   "cell_type": "code",
   "execution_count": 107,
   "metadata": {},
   "outputs": [
    {
     "name": "stdout",
     "output_type": "stream",
     "text": [
      "Vacuuming database \n",
      "23523 datasets\n",
      "743409 exchanges\n",
      "0 unlinked exchanges\n",
      "  \n"
     ]
    },
    {
     "name": "stderr",
     "output_type": "stream",
     "text": [
      "Writing activities to SQLite3 database:\n",
      "0% [##############################] 100% | ETA: 00:00:00\n",
      "Total time elapsed: 00:00:52\n"
     ]
    },
    {
     "name": "stdout",
     "output_type": "stream",
     "text": [
      "Title: Writing activities to SQLite3 database:\n",
      "  Started: 07/31/2024 10:14:17\n",
      "  Finished: 07/31/2024 10:15:10\n",
      "  Total time elapsed: 00:00:52\n",
      "  CPU %: 31.20\n",
      "  Memory %: 32.66\n",
      "Created database: ecoinvent-3.10-cutoff + CHEMICALS_DECARB\n"
     ]
    }
   ],
   "source": [
    "# Write the modified ecoinvent database to memory\n",
    "if ei_CHEMICALS_DECARB_db_name in bw.databases:\n",
    "    del bw.databases[ei_CHEMICALS_DECARB_db_name]\n",
    "wurst.write_brightway2_database(ei_CHEMICALS_DECARB_db, ei_CHEMICALS_DECARB_db_name)"
   ]
  },
  {
   "cell_type": "code",
   "execution_count": 108,
   "metadata": {},
   "outputs": [],
   "source": [
    "# Link raw materials datasets to the modified ecoinvent version\n",
    "for ds in CHEMICALS_DECARB_db:\n",
    "    for exc in filter(technosphere, ds[\"exchanges\"]):\n",
    "        exc_ds = [\n",
    "            d for d in ei_CHEMICALS_DECARB_db if \n",
    "            d[\"name\"] == exc[\"name\"] and\n",
    "            d[\"reference product\"] == exc[\"product\"] and\n",
    "            d[\"location\"] == exc[\"location\"] and\n",
    "            d[\"unit\"] == exc[\"unit\"]\n",
    "        ]\n",
    "        if len(exc_ds) > 0:\n",
    "            exc.update({\n",
    "                \"input\": (ei_CHEMICALS_DECARB_db_name, exc_ds[0][\"code\"])\n",
    "                })"
   ]
  },
  {
   "cell_type": "code",
   "execution_count": 109,
   "metadata": {},
   "outputs": [
    {
     "name": "stderr",
     "output_type": "stream",
     "text": [
      "Writing activities to SQLite3 database:\n"
     ]
    },
    {
     "name": "stdout",
     "output_type": "stream",
     "text": [
      "56 datasets\n",
      "680 exchanges\n",
      "0 unlinked exchanges\n",
      "  \n"
     ]
    },
    {
     "name": "stderr",
     "output_type": "stream",
     "text": [
      "0% [##############################] 100% | ETA: 00:00:00\n",
      "Total time elapsed: 00:00:00\n"
     ]
    },
    {
     "name": "stdout",
     "output_type": "stream",
     "text": [
      "Title: Writing activities to SQLite3 database:\n",
      "  Started: 07/31/2024 10:19:59\n",
      "  Finished: 07/31/2024 10:19:59\n",
      "  Total time elapsed: 00:00:00\n",
      "  CPU %: 0.00\n",
      "  Memory %: 30.78\n",
      "Created database: LIB raw materials, ONSITE_ELEC + ENERGY_EFF + PROCESS_HEAT + CHEMICALS_DECARB\n"
     ]
    }
   ],
   "source": [
    "if dbs_strategies[\"CHEMICALS_DECARB\"] in bw.databases:\n",
    "    del bw.databases[dbs_strategies[\"CHEMICALS_DECARB\"]]\n",
    "wurst.write_brightway2_database(CHEMICALS_DECARB_db, dbs_strategies[\"CHEMICALS_DECARB\"])"
   ]
  },
  {
   "cell_type": "markdown",
   "metadata": {},
   "source": [
    "### 5. Wind power in the global economy"
   ]
  },
  {
   "cell_type": "code",
   "execution_count": 110,
   "metadata": {},
   "outputs": [],
   "source": [
    "# Copy of databases for modification:\n",
    "GLOBAL_ELEC_db = copy.deepcopy(CHEMICALS_DECARB_db)\n",
    "ei_GLOBAL_ELEC_db = copy.deepcopy(ei_CHEMICALS_DECARB_db)\n",
    "\n",
    "ei_GLOBAL_ELEC_db_name = ei_CHEMICALS_DECARB_db_name + \" + GLOBAL_ELEC\""
   ]
  },
  {
   "cell_type": "code",
   "execution_count": 111,
   "metadata": {},
   "outputs": [],
   "source": [
    "# Create an ecoinvent database where all activities are powered by wind-battery system\n",
    "# considering the GLO dataset\n",
    "for ds in ei_GLOBAL_ELEC_db:\n",
    "    for exc in filter(technosphere, ds[\"exchanges\"]):\n",
    "        if exc['product'] in breakdown_lists[\"electricity products\"]:\n",
    "\n",
    "            exc.update({\n",
    "                'name': wind_battery_ds_locs[\"GLO\"][0]['name'],\n",
    "                'product': wind_battery_ds_locs[\"GLO\"][0]['reference product'],\n",
    "                'location': wind_battery_ds_locs[\"GLO\"][0]['location'],\n",
    "                'input': (dbs_strategies[\"PROCESS_HEAT\"], wind_battery_ds_locs[\"GLO\"][0]['code'])}\n",
    "            )"
   ]
  },
  {
   "cell_type": "code",
   "execution_count": 112,
   "metadata": {},
   "outputs": [
    {
     "name": "stdout",
     "output_type": "stream",
     "text": [
      "Vacuuming database \n",
      "23523 datasets\n",
      "743409 exchanges\n",
      "0 unlinked exchanges\n",
      "  \n"
     ]
    },
    {
     "name": "stderr",
     "output_type": "stream",
     "text": [
      "Writing activities to SQLite3 database:\n",
      "0% [##############################] 100% | ETA: 00:00:00\n",
      "Total time elapsed: 00:01:03\n"
     ]
    },
    {
     "name": "stdout",
     "output_type": "stream",
     "text": [
      "Title: Writing activities to SQLite3 database:\n",
      "  Started: 07/31/2024 10:24:46\n",
      "  Finished: 07/31/2024 10:25:50\n",
      "  Total time elapsed: 00:01:03\n",
      "  CPU %: 39.90\n",
      "  Memory %: 32.66\n",
      "Created database: ecoinvent-3.10-cutoff + CHEMICALS_DECARB + GLOBAL_ELEC\n"
     ]
    }
   ],
   "source": [
    "# Write the modified ecoinvent database to memory\n",
    "if ei_GLOBAL_ELEC_db_name in bw.databases:\n",
    "    del bw.databases[ei_GLOBAL_ELEC_db_name]\n",
    "wurst.write_brightway2_database(ei_GLOBAL_ELEC_db, ei_GLOBAL_ELEC_db_name)"
   ]
  },
  {
   "cell_type": "code",
   "execution_count": 113,
   "metadata": {},
   "outputs": [],
   "source": [
    "# Link raw materials datasets to the modified ecoinvent version\n",
    "for ds in GLOBAL_ELEC_db:\n",
    "    for exc in filter(technosphere, ds[\"exchanges\"]):\n",
    "        exc_ds = [\n",
    "            d for d in ei_GLOBAL_ELEC_db if \n",
    "            d[\"name\"] == exc[\"name\"] and\n",
    "            d[\"reference product\"] == exc[\"product\"] and\n",
    "            d[\"location\"] == exc[\"location\"] and\n",
    "            d[\"unit\"] == exc[\"unit\"]\n",
    "        ]\n",
    "        if len(exc_ds) > 0:\n",
    "            exc.update({\n",
    "                \"input\": (ei_GLOBAL_ELEC_db_name, exc_ds[0][\"code\"])\n",
    "                })"
   ]
  },
  {
   "cell_type": "code",
   "execution_count": 114,
   "metadata": {},
   "outputs": [
    {
     "name": "stderr",
     "output_type": "stream",
     "text": [
      "Writing activities to SQLite3 database:\n"
     ]
    },
    {
     "name": "stdout",
     "output_type": "stream",
     "text": [
      "56 datasets\n",
      "680 exchanges\n",
      "0 unlinked exchanges\n",
      "  \n"
     ]
    },
    {
     "name": "stderr",
     "output_type": "stream",
     "text": [
      "0% [##############################] 100% | ETA: 00:00:00\n",
      "Total time elapsed: 00:00:00\n"
     ]
    },
    {
     "name": "stdout",
     "output_type": "stream",
     "text": [
      "Title: Writing activities to SQLite3 database:\n",
      "  Started: 07/31/2024 10:29:45\n",
      "  Finished: 07/31/2024 10:29:45\n",
      "  Total time elapsed: 00:00:00\n",
      "  CPU %: 6.60\n",
      "  Memory %: 32.75\n",
      "Created database: LIB raw materials, ONSITE_ELEC + ENERGY_EFF + PROCESS_HEAT + CHEMICALS_ELEC + GLOBAL_ELEC\n"
     ]
    }
   ],
   "source": [
    "if dbs_strategies[\"GLOBAL_ELEC\"] in bw.databases:\n",
    "    del bw.databases[dbs_strategies[\"GLOBAL_ELEC\"]]\n",
    "wurst.write_brightway2_database(GLOBAL_ELEC_db, dbs_strategies[\"GLOBAL_ELEC\"])"
   ]
  },
  {
   "cell_type": "markdown",
   "metadata": {},
   "source": [
    "## Calculate impacts"
   ]
  },
  {
   "cell_type": "code",
   "execution_count": 136,
   "metadata": {},
   "outputs": [],
   "source": [
    "INVENTORIES = {\n",
    "    \"Lithium, brine\":        (\"lithium hydroxide production, Salar de Atacama\", \"lithium hydroxide, battery grade\", \"CL\"),\n",
    "    \"Lithium, spodumene\":    (\"lithium hydroxide production, from Australian spodumene\", \"lithium hydroxide, battery grade\", \"CN\"),\n",
    "    \"Cobalt\":                (\"cobalt sulfate production, from copper-cobalt ore, economic allocation\", \"cobalt sulfate\", \"CN\"),\n",
    "    \"Nickel\":                (\"nickel sulfate production, average excluding China, economic allocation\", \"nickel sulfate\", \"GLO\"),\n",
    "    \"Graphite, natural\":     (\"natural graphite production, battery grade, from Heilongjiang\", \"natural graphite, battery grade\", \"CN\"),\n",
    "    \"Graphite, synthetic\":   (\"graphite powder coating\", \"synthetic graphite, battery grade\", \"CN\"),\n",
    "}\n",
    "\n",
    "EF_METHODS = {\n",
    "                'Climate change':                      ('IPCC 2021', 'climate change: including SLCFs', 'global warming potential (GWP100)'),\n",
    "                'Acidification':                       ('EF v3.1', 'acidification', 'accumulated exceedance (AE)'),\n",
    "                'Eutrophication, freshwater':          ('EF v3.1', 'eutrophication: freshwater', 'fraction of nutrients reaching freshwater end compartment (P)'),\n",
    "                'Eutrophication, marine':              ('EF v3.1', 'eutrophication: marine', 'fraction of nutrients reaching marine end compartment (N)'),\n",
    "                'Eutrophication, terrestrial':         ('EF v3.1', 'eutrophication: terrestrial', 'accumulated exceedance (AE)'),\n",
    "                'Photochemical oxidant formation':     ('EF v3.1', 'photochemical oxidant formation: human health', 'tropospheric ozone concentration increase'),\n",
    "                'Particulate matter formation':        ('EF v3.1', 'particulate matter formation', 'impact on human health'),\n",
    "                'Ozone depletion':                     ('EF v3.1', 'ozone depletion', 'ozone depletion potential (ODP)'),\n",
    "                'Ecotoxicity, freshwater':             ('EF v3.1', 'ecotoxicity: freshwater', 'comparative toxic unit for ecosystems (CTUe)'),\n",
    "                'Human toxicity, carcinogenic':        ('EF v3.1', 'human toxicity: carcinogenic', 'comparative toxic unit for human (CTUh)'),\n",
    "                'Human toxicity, non-carcinogenic':    ('EF v3.1', 'human toxicity: non-carcinogenic', 'comparative toxic unit for human (CTUh)'),\n",
    "                'Ionising radiation':                  ('EF v3.1', 'ionising radiation: human health', 'human exposure efficiency relative to u235'), \n",
    "                'Energy resources, non-renewable':     ('EF v3.1', 'energy resources: non-renewable', 'abiotic depletion potential (ADP): fossil fuels'),\n",
    "                'Material resources, minerals/metals': ('EF v3.1', 'material resources: metals/minerals', 'abiotic depletion potential (ADP): elements (ultimate reserves)'),\n",
    "                'Land use':                            ('EF v3.1', 'land use', 'soil quality index'),\n",
    "                'Water use':                           ('EF v3.1', 'water use', 'user deprivation potential (deprivation-weighted water consumption)')\n",
    "               }\n",
    "\n"
   ]
  },
  {
   "cell_type": "code",
   "execution_count": 137,
   "metadata": {},
   "outputs": [],
   "source": [
    "impacts_decarbonization = {\n",
    "        db: {\n",
    "            rm: 0 \n",
    "            for rm in INVENTORIES.keys()} \n",
    "            for db in list(dbs_strategies.keys())\n",
    "        }"
   ]
  },
  {
   "cell_type": "code",
   "execution_count": 138,
   "metadata": {},
   "outputs": [],
   "source": [
    "for db in dbs_strategies:\n",
    "    lca = supporting_functions.init_simple_lca(bw.Database(dbs_strategies[db]).random())\n",
    "\n",
    "    for rm in INVENTORIES:\n",
    "        rm_ds = [ds for ds in bw.Database(dbs_strategies[db])\n",
    "                    if ds['name'] == INVENTORIES[rm][0] \n",
    "                    and ds['reference product'] == INVENTORIES[rm][1]\n",
    "                    and ds['location'] == INVENTORIES[rm][2]][0]\n",
    "        impacts = supporting_functions.multi_lcia(lca, rm_ds, EF_METHODS)\n",
    "        impacts_decarbonization[db][rm] = impacts"
   ]
  },
  {
   "cell_type": "code",
   "execution_count": 139,
   "metadata": {},
   "outputs": [],
   "source": [
    "impacts_decarbonization_df = pd.DataFrame(\n",
    "    [\n",
    "        (scenario, rm, impact, value)\n",
    "        for scenario, rm_dict in impacts_decarbonization.items()\n",
    "        for rm, impact_dict in rm_dict.items()\n",
    "        for impact, value in impact_dict.items()\n",
    "    ],\n",
    "    columns=['Scenario', 'Raw material', 'Impact category', 'Value']\n",
    ").set_index(\"Scenario\")\n",
    "\n",
    "impacts_decarbonization_df = impacts_decarbonization_df.pivot_table(index=['Raw material', 'Impact category'], columns='Scenario', values='Value').reset_index()\n",
    "impacts_decarbonization_df = impacts_decarbonization_df[['Raw material', \"Impact category\"] + list(dbs_strategies.keys())]\n",
    "\n",
    "impacts_decarbonization_df['Raw material'] = pd.Categorical(impacts_decarbonization_df['Raw material'], categories=INVENTORIES.keys(), ordered=True)\n",
    "impacts_decarbonization_df = impacts_decarbonization_df.sort_values('Raw material').reset_index(drop=True)"
   ]
  },
  {
   "cell_type": "code",
   "execution_count": 140,
   "metadata": {},
   "outputs": [],
   "source": [
    "# Export mitigation potential resutls\n",
    "impacts_decarbonization_df.to_csv(DATA_DIR / \"results\" / f\"fig4_impacts_decarbonization_{datetime.datetime.today().strftime('%d-%m-%Y')}.csv\", index=False)"
   ]
  },
  {
   "cell_type": "markdown",
   "metadata": {},
   "source": [
    "### Monte Carlo simulation\n",
    "\n",
    "Results are calculated only for the current situation and the decarbonization scenario with all strategies implemented"
   ]
  },
  {
   "cell_type": "code",
   "execution_count": 141,
   "metadata": {},
   "outputs": [],
   "source": [
    "dbs_for_mc = [\"BAU\", \"GLOBAL_ELEC\"]\n",
    "method_for_mc = {key: value for key, value in EF_METHODS.items() if key == \"Climate change\"}\n",
    "\n",
    "mc_iterations = 1000\n",
    "\n",
    "mc_results = {\n",
    "        db: {\n",
    "            rm: 0 \n",
    "            for rm in INVENTORIES.keys()} \n",
    "            for db in dbs_for_mc\n",
    "        }"
   ]
  },
  {
   "cell_type": "code",
   "execution_count": 142,
   "metadata": {},
   "outputs": [
    {
     "name": "stdout",
     "output_type": "stream",
     "text": [
      "########## BAU ##########\n",
      "Lithium, brine\n",
      "Lithium, spodumene\n",
      "Cobalt\n",
      "Nickel\n",
      "Graphite, natural\n",
      "Graphite, synthetic\n",
      "########## GLOBAL_ELEC ##########\n",
      "Lithium, brine\n",
      "Lithium, spodumene\n",
      "Cobalt\n",
      "Nickel\n",
      "Graphite, natural\n",
      "Graphite, synthetic\n"
     ]
    }
   ],
   "source": [
    "for db in [\"BAU\", \"GLOBAL_ELEC\"]:\n",
    "    print(\"##########\", db, \"##########\")\n",
    "    mc_lca = supporting_functions.init_mc_lca(bw.Database(dbs_strategies[db]).random())\n",
    "\n",
    "    for rm in INVENTORIES:\n",
    "        print(rm)\n",
    "        rm_ds = [ds for ds in bw.Database(dbs_strategies[db])\n",
    "                        if ds['name'] == INVENTORIES[rm][0] \n",
    "                        and ds['reference product'] == INVENTORIES[rm][1]\n",
    "                        and ds['location'] == INVENTORIES[rm][2]][0]\n",
    "        \n",
    "        mc_impacts = supporting_functions.multi_lcia_MonteCarlo(mc_lca, rm_ds, mc_iterations, method_for_mc)\n",
    "        mc_results[db][rm] = mc_impacts"
   ]
  },
  {
   "cell_type": "code",
   "execution_count": 143,
   "metadata": {},
   "outputs": [],
   "source": [
    "mc_results_df = []\n",
    "for scenario, rm_dict in mc_results.items():\n",
    "    for rm, impact_dict in rm_dict.items():\n",
    "        for impact, values in impact_dict.items():\n",
    "            row = [scenario, rm, impact] + values.tolist()\n",
    "            mc_results_df.append(row)\n",
    "\n",
    "# Define column names\n",
    "columns = ['Scenario', 'Raw material', 'Impact category'] + [i for i in range(len(values))]\n",
    "\n",
    "# Create DataFrame\n",
    "mc_results_df = pd.DataFrame(mc_results_df, columns=columns)"
   ]
  },
  {
   "cell_type": "code",
   "execution_count": 144,
   "metadata": {},
   "outputs": [],
   "source": [
    "# Export Monte Carlo simulation results\n",
    "mc_results_df.to_csv(DATA_DIR / \"results\" / f\"fig4_MonteCarlo_results_iterations_{datetime.datetime.today().strftime('%d-%m-%Y')}.csv\", index=False)"
   ]
  },
  {
   "cell_type": "code",
   "execution_count": null,
   "metadata": {},
   "outputs": [],
   "source": []
  }
 ],
 "metadata": {
  "kernelspec": {
   "display_name": "iri_ei39",
   "language": "python",
   "name": "python3"
  },
  "language_info": {
   "codemirror_mode": {
    "name": "ipython",
    "version": 3
   },
   "file_extension": ".py",
   "mimetype": "text/x-python",
   "name": "python",
   "nbconvert_exporter": "python",
   "pygments_lexer": "ipython3",
   "version": "3.11.8"
  }
 },
 "nbformat": 4,
 "nbformat_minor": 2
}
