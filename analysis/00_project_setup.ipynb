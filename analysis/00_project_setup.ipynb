{
 "cells": [
  {
   "cell_type": "markdown",
   "metadata": {},
   "source": [
    "# Set-up BW project\n",
    "\n",
    "Import ecoinvent & biosphere databases and LCIs for LIB raw materials production\n",
    "\n",
    "*Note: The results presented in the scientific article were produced with ecoinvent 3.10 cut-off system model*"
   ]
  },
  {
   "cell_type": "code",
   "execution_count": 1,
   "metadata": {},
   "outputs": [],
   "source": [
    "%run _imports.ipynb\n",
    "\n",
    "BW_PROJECT = 'lib_rm' # insert your project name here\n",
    "bw.projects.set_current(BW_PROJECT)"
   ]
  },
  {
   "cell_type": "code",
   "execution_count": 2,
   "metadata": {},
   "outputs": [
    {
     "name": "stderr",
     "output_type": "stream",
     "text": [
      "c:\\Users\\istrateir\\AppData\\Local\\anaconda3\\envs\\ri_lca\\Lib\\site-packages\\ecoinvent_interface\\core.py:139: UserWarning: Given credentials can't log in: error 401\n",
      "  warnings.warn(\n"
     ]
    },
    {
     "ename": "HTTPError",
     "evalue": "401 Client Error: Unauthorized for url: https://sso.ecoinvent.org/realms/ecoinvent/protocol/openid-connect/token",
     "output_type": "error",
     "traceback": [
      "\u001b[1;31m---------------------------------------------------------------------------\u001b[0m",
      "\u001b[1;31mHTTPError\u001b[0m                                 Traceback (most recent call last)",
      "Cell \u001b[1;32mIn[2], line 4\u001b[0m\n\u001b[0;32m      1\u001b[0m EI_USERNAME \u001b[38;5;241m=\u001b[39m \u001b[38;5;124m\"\u001b[39m\u001b[38;5;124mxxxxx\u001b[39m\u001b[38;5;124m\"\u001b[39m           \u001b[38;5;66;03m# add ecoinvent credentials\u001b[39;00m\n\u001b[0;32m      2\u001b[0m EI_PASS \u001b[38;5;241m=\u001b[39m \u001b[38;5;124m\"\u001b[39m\u001b[38;5;124myyyyyyyyyyy\u001b[39m\u001b[38;5;124m\"\u001b[39m         \u001b[38;5;66;03m# add ecoinvent credentials\u001b[39;00m\n\u001b[1;32m----> 4\u001b[0m bw\u001b[38;5;241m.\u001b[39mimport_ecoinvent_release(\n\u001b[0;32m      5\u001b[0m     version\u001b[38;5;241m=\u001b[39m\u001b[38;5;124m\"\u001b[39m\u001b[38;5;124m3.10\u001b[39m\u001b[38;5;124m\"\u001b[39m, \n\u001b[0;32m      6\u001b[0m     system_model\u001b[38;5;241m=\u001b[39m\u001b[38;5;124m'\u001b[39m\u001b[38;5;124mcutoff\u001b[39m\u001b[38;5;124m'\u001b[39m, \n\u001b[0;32m      7\u001b[0m     username\u001b[38;5;241m=\u001b[39mEI_USERNAME,\n\u001b[0;32m      8\u001b[0m     password\u001b[38;5;241m=\u001b[39mEI_PASS\n\u001b[0;32m      9\u001b[0m     )\n",
      "File \u001b[1;32mc:\\Users\\istrateir\\AppData\\Local\\anaconda3\\envs\\ri_lca\\Lib\\site-packages\\bw2io\\ecoinvent.py:195\u001b[0m, in \u001b[0;36mimport_ecoinvent_release\u001b[1;34m(version, system_model, username, password, lci, lcia, biosphere_name, biosphere_write_mode, importer_signal, use_mp)\u001b[0m\n\u001b[0;32m    192\u001b[0m     \u001b[38;5;28;01mraise\u001b[39;00m \u001b[38;5;167;01mValueError\u001b[39;00m(\u001b[38;5;124m\"\u001b[39m\u001b[38;5;124mCan\u001b[39m\u001b[38;5;124m'\u001b[39m\u001b[38;5;124mt determine ecoinvent username or password\u001b[39m\u001b[38;5;124m\"\u001b[39m)\n\u001b[0;32m    194\u001b[0m release \u001b[38;5;241m=\u001b[39m ei\u001b[38;5;241m.\u001b[39mEcoinventRelease(settings)\n\u001b[1;32m--> 195\u001b[0m \u001b[38;5;28;01mif\u001b[39;00m \u001b[38;5;129;01mnot\u001b[39;00m version \u001b[38;5;129;01min\u001b[39;00m release\u001b[38;5;241m.\u001b[39mlist_versions():\n\u001b[0;32m    196\u001b[0m     \u001b[38;5;28;01mraise\u001b[39;00m \u001b[38;5;167;01mValueError\u001b[39;00m(\u001b[38;5;124mf\u001b[39m\u001b[38;5;124m\"\u001b[39m\u001b[38;5;124mInvalid version \u001b[39m\u001b[38;5;132;01m{\u001b[39;00mversion\u001b[38;5;132;01m}\u001b[39;00m\u001b[38;5;124m\"\u001b[39m)\n\u001b[0;32m    198\u001b[0m \u001b[38;5;28;01mif\u001b[39;00m system_model \u001b[38;5;129;01min\u001b[39;00m SYSTEM_MODELS:\n",
      "File \u001b[1;32mc:\\Users\\istrateir\\AppData\\Local\\anaconda3\\envs\\ri_lca\\Lib\\site-packages\\ecoinvent_interface\\core.py:284\u001b[0m, in \u001b[0;36mInterfaceBase.list_versions\u001b[1;34m(self)\u001b[0m\n\u001b[0;32m    283\u001b[0m \u001b[38;5;28;01mdef\u001b[39;00m \u001b[38;5;21mlist_versions\u001b[39m(\u001b[38;5;28mself\u001b[39m) \u001b[38;5;241m-\u001b[39m\u001b[38;5;241m>\u001b[39m \u001b[38;5;28mlist\u001b[39m:\n\u001b[1;32m--> 284\u001b[0m     \u001b[38;5;28;01mreturn\u001b[39;00m [obj[\u001b[38;5;124m\"\u001b[39m\u001b[38;5;124mversion_name\u001b[39m\u001b[38;5;124m\"\u001b[39m] \u001b[38;5;28;01mfor\u001b[39;00m obj \u001b[38;5;129;01min\u001b[39;00m \u001b[38;5;28mself\u001b[39m\u001b[38;5;241m.\u001b[39m_get_all_files()]\n",
      "File \u001b[1;32mc:\\Users\\istrateir\\AppData\\Local\\anaconda3\\envs\\ri_lca\\Lib\\site-packages\\ecoinvent_interface\\core.py:31\u001b[0m, in \u001b[0;36mfresh_login.<locals>.wrapper\u001b[1;34m(self, *args, **kwargs)\u001b[0m\n\u001b[0;32m     29\u001b[0m \u001b[38;5;28;01mdef\u001b[39;00m \u001b[38;5;21mwrapper\u001b[39m(\u001b[38;5;28mself\u001b[39m, \u001b[38;5;241m*\u001b[39margs, \u001b[38;5;241m*\u001b[39m\u001b[38;5;241m*\u001b[39mkwargs):\n\u001b[0;32m     30\u001b[0m     \u001b[38;5;28;01mif\u001b[39;00m \u001b[38;5;129;01mnot\u001b[39;00m \u001b[38;5;28mhasattr\u001b[39m(\u001b[38;5;28mself\u001b[39m, \u001b[38;5;124m\"\u001b[39m\u001b[38;5;124mlast_refresh\u001b[39m\u001b[38;5;124m\"\u001b[39m):\n\u001b[1;32m---> 31\u001b[0m         \u001b[38;5;28mself\u001b[39m\u001b[38;5;241m.\u001b[39mlogin()\n\u001b[0;32m     32\u001b[0m     \u001b[38;5;28;01mif\u001b[39;00m time() \u001b[38;5;241m-\u001b[39m \u001b[38;5;28mself\u001b[39m\u001b[38;5;241m.\u001b[39mlast_refresh \u001b[38;5;241m>\u001b[39m \u001b[38;5;241m120\u001b[39m:\n\u001b[0;32m     33\u001b[0m         \u001b[38;5;28mself\u001b[39m\u001b[38;5;241m.\u001b[39mrefresh_tokens()\n",
      "File \u001b[1;32mc:\\Users\\istrateir\\AppData\\Local\\anaconda3\\envs\\ri_lca\\Lib\\site-packages\\ecoinvent_interface\\core.py:100\u001b[0m, in \u001b[0;36mInterfaceBase.login\u001b[1;34m(self)\u001b[0m\n\u001b[0;32m     93\u001b[0m \u001b[38;5;28;01mdef\u001b[39;00m \u001b[38;5;21mlogin\u001b[39m(\u001b[38;5;28mself\u001b[39m) \u001b[38;5;241m-\u001b[39m\u001b[38;5;241m>\u001b[39m \u001b[38;5;28;01mNone\u001b[39;00m:\n\u001b[0;32m     94\u001b[0m     post_data \u001b[38;5;241m=\u001b[39m {\n\u001b[0;32m     95\u001b[0m         \u001b[38;5;124m\"\u001b[39m\u001b[38;5;124musername\u001b[39m\u001b[38;5;124m\"\u001b[39m: \u001b[38;5;28mself\u001b[39m\u001b[38;5;241m.\u001b[39musername,\n\u001b[0;32m     96\u001b[0m         \u001b[38;5;124m\"\u001b[39m\u001b[38;5;124mpassword\u001b[39m\u001b[38;5;124m\"\u001b[39m: \u001b[38;5;28mself\u001b[39m\u001b[38;5;241m.\u001b[39mpassword,\n\u001b[0;32m     97\u001b[0m         \u001b[38;5;124m\"\u001b[39m\u001b[38;5;124mclient_id\u001b[39m\u001b[38;5;124m\"\u001b[39m: \u001b[38;5;124m\"\u001b[39m\u001b[38;5;124mapollo-ui\u001b[39m\u001b[38;5;124m\"\u001b[39m,\n\u001b[0;32m     98\u001b[0m         \u001b[38;5;124m\"\u001b[39m\u001b[38;5;124mgrant_type\u001b[39m\u001b[38;5;124m\"\u001b[39m: \u001b[38;5;124m\"\u001b[39m\u001b[38;5;124mpassword\u001b[39m\u001b[38;5;124m\"\u001b[39m,\n\u001b[0;32m     99\u001b[0m     }\n\u001b[1;32m--> 100\u001b[0m     \u001b[38;5;28mself\u001b[39m\u001b[38;5;241m.\u001b[39m_get_credentials(post_data)\n\u001b[0;32m    101\u001b[0m     message \u001b[38;5;241m=\u001b[39m \u001b[38;5;124m\"\"\"\u001b[39m\u001b[38;5;124mGot initial credentials.\u001b[39m\n\u001b[0;32m    102\u001b[0m \u001b[38;5;124mClass: \u001b[39m\u001b[38;5;132;01m{self.__class__.__name__}\u001b[39;00m\n\u001b[0;32m    103\u001b[0m \u001b[38;5;124mInstance ID: \u001b[39m\u001b[38;5;124m{\u001b[39m\u001b[38;5;124mid(self)}\u001b[39m\n\u001b[0;32m    104\u001b[0m \u001b[38;5;124mVersion: \u001b[39m\u001b[38;5;132;01m{__version__}\u001b[39;00m\n\u001b[0;32m    105\u001b[0m \u001b[38;5;124mUser: \u001b[39m\u001b[38;5;132;01m{self.username}\u001b[39;00m\n\u001b[0;32m    106\u001b[0m \u001b[38;5;124m    \u001b[39m\u001b[38;5;124m\"\"\"\u001b[39m\n\u001b[0;32m    107\u001b[0m     logger\u001b[38;5;241m.\u001b[39mdebug(message)\n",
      "File \u001b[1;32mc:\\Users\\istrateir\\AppData\\Local\\anaconda3\\envs\\ri_lca\\Lib\\site-packages\\ecoinvent_interface\\core.py:142\u001b[0m, in \u001b[0;36mInterfaceBase._get_credentials\u001b[1;34m(self, post_data)\u001b[0m\n\u001b[0;32m    138\u001b[0m \u001b[38;5;28;01melse\u001b[39;00m:\n\u001b[0;32m    139\u001b[0m     warnings\u001b[38;5;241m.\u001b[39mwarn(\n\u001b[0;32m    140\u001b[0m         \u001b[38;5;124m\"\u001b[39m\u001b[38;5;124mGiven credentials can\u001b[39m\u001b[38;5;124m'\u001b[39m\u001b[38;5;124mt log in: error \u001b[39m\u001b[38;5;132;01m{}\u001b[39;00m\u001b[38;5;124m\"\u001b[39m\u001b[38;5;241m.\u001b[39mformat(response\u001b[38;5;241m.\u001b[39mstatus_code)\n\u001b[0;32m    141\u001b[0m     )\n\u001b[1;32m--> 142\u001b[0m     response\u001b[38;5;241m.\u001b[39mraise_for_status()\n",
      "File \u001b[1;32mc:\\Users\\istrateir\\AppData\\Local\\anaconda3\\envs\\ri_lca\\Lib\\site-packages\\requests\\models.py:1021\u001b[0m, in \u001b[0;36mResponse.raise_for_status\u001b[1;34m(self)\u001b[0m\n\u001b[0;32m   1016\u001b[0m     http_error_msg \u001b[38;5;241m=\u001b[39m (\n\u001b[0;32m   1017\u001b[0m         \u001b[38;5;124mf\u001b[39m\u001b[38;5;124m\"\u001b[39m\u001b[38;5;132;01m{\u001b[39;00m\u001b[38;5;28mself\u001b[39m\u001b[38;5;241m.\u001b[39mstatus_code\u001b[38;5;132;01m}\u001b[39;00m\u001b[38;5;124m Server Error: \u001b[39m\u001b[38;5;132;01m{\u001b[39;00mreason\u001b[38;5;132;01m}\u001b[39;00m\u001b[38;5;124m for url: \u001b[39m\u001b[38;5;132;01m{\u001b[39;00m\u001b[38;5;28mself\u001b[39m\u001b[38;5;241m.\u001b[39murl\u001b[38;5;132;01m}\u001b[39;00m\u001b[38;5;124m\"\u001b[39m\n\u001b[0;32m   1018\u001b[0m     )\n\u001b[0;32m   1020\u001b[0m \u001b[38;5;28;01mif\u001b[39;00m http_error_msg:\n\u001b[1;32m-> 1021\u001b[0m     \u001b[38;5;28;01mraise\u001b[39;00m HTTPError(http_error_msg, response\u001b[38;5;241m=\u001b[39m\u001b[38;5;28mself\u001b[39m)\n",
      "\u001b[1;31mHTTPError\u001b[0m: 401 Client Error: Unauthorized for url: https://sso.ecoinvent.org/realms/ecoinvent/protocol/openid-connect/token"
     ]
    }
   ],
   "source": [
    "EI_USERNAME = \"xxxxx\"           # add ecoinvent credentials\n",
    "EI_PASS = \"yyyyyyyyyyy\"         # add ecoinvent credentials\n",
    "\n",
    "bw.import_ecoinvent_release(\n",
    "    version=\"3.10\", \n",
    "    system_model='cutoff', \n",
    "    username=EI_USERNAME,\n",
    "    password=EI_PASS\n",
    "    )"
   ]
  },
  {
   "cell_type": "code",
   "execution_count": 2,
   "metadata": {},
   "outputs": [
    {
     "name": "stdout",
     "output_type": "stream",
     "text": [
      "Extracted 7 worksheets in 0.43 seconds\n",
      "Applying strategy: csv_restore_tuples\n",
      "Applying strategy: csv_restore_booleans\n",
      "Applying strategy: csv_numerize\n",
      "Applying strategy: csv_drop_unknown\n",
      "Applying strategy: csv_add_missing_exchanges_section\n",
      "Applying strategy: normalize_units\n",
      "Applying strategy: normalize_biosphere_categories\n",
      "Applying strategy: normalize_biosphere_names\n",
      "Applying strategy: strip_biosphere_exc_locations\n",
      "Applying strategy: set_code_by_activity_hash\n",
      "Applying strategy: link_iterable_by_fields\n",
      "Applying strategy: assign_only_product_as_production\n",
      "Applying strategy: link_technosphere_by_activity_hash\n",
      "Applying strategy: drop_falsey_uncertainty_fields_but_keep_zeros\n",
      "Applying strategy: convert_uncertainty_types_to_integers\n",
      "Applying strategy: convert_activity_parameters_to_list\n",
      "Applied 16 strategies in 4.94 seconds\n",
      "Applying strategy: link_iterable_by_fields\n",
      "Applying strategy: link_iterable_by_fields\n"
     ]
    }
   ],
   "source": [
    "lci_lib_rms = bw.ExcelImporter(INVENTORIES_PATH)\n",
    "lci_lib_rms.apply_strategies()\n",
    "lci_lib_rms.match_database(\"ecoinvent-3.10-cutoff\", fields=('name', 'reference product', 'unit', 'location'))\n",
    "lci_lib_rms.match_database(\"ecoinvent-3.10-biosphere\", fields=('name', 'unit', 'categories'))"
   ]
  },
  {
   "cell_type": "code",
   "execution_count": 3,
   "metadata": {},
   "outputs": [],
   "source": [
    "# Add uncertainty data for pedigree matrix\n",
    "\n",
    "for ds in lci_lib_rms.data:\n",
    "    for exc in ds[\"exchanges\"]:\n",
    "        if \"pedigree\" in exc:\n",
    "\n",
    "            # Pedigree are stored as strings\n",
    "            pedigree_str = exc[\"pedigree\"].strip(\"()\")\n",
    "            pedigre_scores = tuple([int(x) for x in pedigree_str.split(\", \")])\n",
    "            exc_amount = exc[\"amount\"]\n",
    "\n",
    "            uncertainty_dict = supporting_functions.create_pedigree_matrix(pedigre_scores, exc_amount)\n",
    "            exc.update(uncertainty_dict)"
   ]
  },
  {
   "cell_type": "code",
   "execution_count": 4,
   "metadata": {},
   "outputs": [
    {
     "name": "stderr",
     "output_type": "stream",
     "text": [
      "Writing activities to SQLite3 database:\n",
      "0% [##############################] 100% | ETA: 00:00:00\n",
      "Total time elapsed: 00:00:00\n"
     ]
    },
    {
     "name": "stdout",
     "output_type": "stream",
     "text": [
      "Title: Writing activities to SQLite3 database:\n",
      "  Started: 07/30/2024 15:41:53\n",
      "  Finished: 07/30/2024 15:41:53\n",
      "  Total time elapsed: 00:00:00\n",
      "  CPU %: 0.00\n",
      "  Memory %: 2.29\n",
      "Created database: LIB raw materials\n"
     ]
    }
   ],
   "source": [
    "lci_lib_rms.write_database()"
   ]
  },
  {
   "cell_type": "code",
   "execution_count": 5,
   "metadata": {},
   "outputs": [],
   "source": [
    "for ds in lci_lib_rms.data:\n",
    "    for exc in ds['exchanges']:\n",
    "        if 'amount' not in exc:\n",
    "            print(\"Missing `amount` in exc:\")\n",
    "            print(\"\\t\", exc)\n",
    "            print(\"Dataset\", ds['name'], ds['location'])\n",
    "        elif 'input' not in exc:\n",
    "            # check just to make sure\n",
    "            print(\"Missing `input` in exc:\")\n",
    "            print(\"\\t\", exc)\n",
    "            print(\"Dataset\", ds['name'], ds['location'])  "
   ]
  },
  {
   "cell_type": "code",
   "execution_count": null,
   "metadata": {},
   "outputs": [],
   "source": []
  }
 ],
 "metadata": {
  "kernelspec": {
   "display_name": "iri_ei39",
   "language": "python",
   "name": "python3"
  },
  "language_info": {
   "codemirror_mode": {
    "name": "ipython",
    "version": 3
   },
   "file_extension": ".py",
   "mimetype": "text/x-python",
   "name": "python",
   "nbconvert_exporter": "python",
   "pygments_lexer": "ipython3",
   "version": "3.11.8"
  }
 },
 "nbformat": 4,
 "nbformat_minor": 2
}
