{
 "cells": [
  {
   "cell_type": "markdown",
   "metadata": {},
   "source": [
    "# Set-up BW project\n",
    "\n",
    "Import ecoinvent & biosphere databases and metals LCIs\n",
    "\n",
    "*Note: The results presented in the scientific article were produced with ecoinvent 3.10 cut-off system model*"
   ]
  },
  {
   "cell_type": "code",
   "execution_count": 7,
   "metadata": {},
   "outputs": [],
   "source": [
    "%run _imports.ipynb"
   ]
  },
  {
   "cell_type": "code",
   "execution_count": 8,
   "metadata": {},
   "outputs": [
    {
     "name": "stdout",
     "output_type": "stream",
     "text": [
      "(2, 4, 6)\n",
      "(0, 8, 12)\n"
     ]
    }
   ],
   "source": [
    "print(bw.__version__)\n",
    "print(bw2io.__version__)"
   ]
  },
  {
   "cell_type": "code",
   "execution_count": 9,
   "metadata": {},
   "outputs": [],
   "source": [
    "BW_PROJECT = 'lib_rm' # insert your project name here\n",
    "bw.projects.set_current(BW_PROJECT)"
   ]
  },
  {
   "cell_type": "code",
   "execution_count": 4,
   "metadata": {},
   "outputs": [
    {
     "name": "stderr",
     "output_type": "stream",
     "text": [
      "c:\\Users\\istrateir\\AppData\\Local\\anaconda3\\envs\\ri_lca\\Lib\\site-packages\\ecoinvent_interface\\release.py:234: UserWarning: Can't automatically delete C:\\Users\\istrateir\\AppData\\Local\\pylca\\EcoinventInterface\\cache\\ecoinvent 3.10_cutoff_ecoSpold02.7z\n",
      "        Please delete manually\n",
      "  warnings.warn(message)\n",
      "Writing activities to SQLite3 database:\n"
     ]
    },
    {
     "name": "stdout",
     "output_type": "stream",
     "text": [
      "Applying strategy: normalize_units\n",
      "Applying strategy: drop_unspecified_subcategories\n",
      "Applying strategy: ensure_categories_are_tuples\n",
      "Applied 3 strategies in 0.00 seconds\n",
      "4362 datasets\n",
      "0 exchanges\n",
      "0 unlinked exchanges\n",
      "  \n"
     ]
    },
    {
     "name": "stderr",
     "output_type": "stream",
     "text": [
      "0% [##############################] 100% | ETA: 00:00:00\n",
      "Total time elapsed: 00:00:00\n"
     ]
    },
    {
     "name": "stdout",
     "output_type": "stream",
     "text": [
      "Title: Writing activities to SQLite3 database:\n",
      "  Started: 04/18/2024 11:55:48\n",
      "  Finished: 04/18/2024 11:55:48\n",
      "  Total time elapsed: 00:00:00\n",
      "  CPU %: 0.00\n",
      "  Memory %: 2.43\n",
      "Created database: ecoinvent-3.10-biosphere\n"
     ]
    },
    {
     "name": "stderr",
     "output_type": "stream",
     "text": [
      "Extracting ecospold2 files:\n",
      "0% [##############################] 100% | ETA: 00:00:00 | Item ID: fffee1f5-12b7-5\n",
      "Total time elapsed: 00:10:10\n"
     ]
    },
    {
     "name": "stdout",
     "output_type": "stream",
     "text": [
      "Title: Extracting ecospold2 files:\n",
      "  Started: 04/18/2024 11:55:59\n",
      "  Finished: 04/18/2024 12:06:09\n",
      "  Total time elapsed: 00:10:10\n",
      "  CPU %: 14.00\n",
      "  Memory %: 20.66\n",
      "Extracted 23523 datasets in 611.18 seconds\n",
      "Applying strategy: normalize_units\n",
      "Applying strategy: update_ecoinvent_locations\n",
      "Applying strategy: remove_zero_amount_coproducts\n",
      "Applying strategy: remove_zero_amount_inputs_with_no_activity\n",
      "Applying strategy: remove_unnamed_parameters\n",
      "Applying strategy: es2_assign_only_product_with_amount_as_reference_product\n",
      "Applying strategy: assign_single_product_as_activity\n",
      "Applying strategy: create_composite_code\n",
      "Applying strategy: drop_unspecified_subcategories\n",
      "Applying strategy: fix_ecoinvent_flows_pre35\n",
      "Applying strategy: drop_temporary_outdated_biosphere_flows\n",
      "Applying strategy: link_biosphere_by_flow_uuid\n",
      "Applying strategy: link_internal_technosphere_by_composite_code\n",
      "Applying strategy: delete_exchanges_missing_activity\n",
      "Applying strategy: delete_ghost_exchanges\n",
      "Applying strategy: remove_uncertainty_from_negative_loss_exchanges\n",
      "Applying strategy: fix_unreasonably_high_lognormal_uncertainties\n",
      "Applying strategy: convert_activity_parameters_to_list\n",
      "Applying strategy: add_cpc_classification_from_single_reference_product\n",
      "Applying strategy: delete_none_synonyms\n",
      "Applying strategy: update_social_flows_in_older_consequential\n",
      "Applying strategy: set_lognormal_loc_value\n",
      "Applied 22 strategies in 9.56 seconds\n",
      "23523 datasets\n",
      "743409 exchanges\n",
      "0 unlinked exchanges\n",
      "  \n"
     ]
    },
    {
     "name": "stderr",
     "output_type": "stream",
     "text": [
      "Writing activities to SQLite3 database:\n",
      "0% [##############################] 100% | ETA: 00:00:00\n",
      "Total time elapsed: 00:00:53\n"
     ]
    },
    {
     "name": "stdout",
     "output_type": "stream",
     "text": [
      "Title: Writing activities to SQLite3 database:\n",
      "  Started: 04/18/2024 12:06:22\n",
      "  Finished: 04/18/2024 12:07:16\n",
      "  Total time elapsed: 00:00:53\n",
      "  CPU %: 43.70\n",
      "  Memory %: 21.47\n",
      "Created database: ecoinvent-3.10-cutoff\n"
     ]
    },
    {
     "name": "stderr",
     "output_type": "stream",
     "text": [
      "c:\\Users\\istrateir\\AppData\\Local\\anaconda3\\envs\\ri_lca\\Lib\\site-packages\\ecoinvent_interface\\release.py:234: UserWarning: Can't automatically delete C:\\Users\\istrateir\\AppData\\Local\\pylca\\EcoinventInterface\\cache\\ecoinvent 3.10_LCIA_implementation.7z\n",
      "        Please delete manually\n",
      "  warnings.warn(message)\n"
     ]
    }
   ],
   "source": [
    "EI_USERNAME = \"xxxxx\"           # add ecoinvent credentials\n",
    "EI_PASS = \"yyyyyyyyyyy\"         # add ecoinvent credentials\n",
    "\n",
    "bw.import_ecoinvent_release(\n",
    "    version=\"3.10\", \n",
    "    system_model='cutoff', \n",
    "    username=EI_USERNAME,\n",
    "    password=EI_PASS\n",
    "    )"
   ]
  },
  {
   "cell_type": "code",
   "execution_count": 5,
   "metadata": {},
   "outputs": [
    {
     "name": "stdout",
     "output_type": "stream",
     "text": [
      "Extracted 6 worksheets in 0.39 seconds\n",
      "Applying strategy: csv_restore_tuples\n",
      "Applying strategy: csv_restore_booleans\n",
      "Applying strategy: csv_numerize\n",
      "Applying strategy: csv_drop_unknown\n",
      "Applying strategy: csv_add_missing_exchanges_section\n",
      "Applying strategy: normalize_units\n",
      "Applying strategy: normalize_biosphere_categories\n",
      "Applying strategy: normalize_biosphere_names\n",
      "Applying strategy: strip_biosphere_exc_locations\n",
      "Applying strategy: set_code_by_activity_hash\n",
      "Applying strategy: link_iterable_by_fields\n",
      "Applying strategy: assign_only_product_as_production\n",
      "Applying strategy: link_technosphere_by_activity_hash\n",
      "Applying strategy: drop_falsey_uncertainty_fields_but_keep_zeros\n",
      "Applying strategy: convert_uncertainty_types_to_integers\n",
      "Applying strategy: convert_activity_parameters_to_list\n",
      "Applied 16 strategies in 5.32 seconds\n",
      "Applying strategy: link_iterable_by_fields\n",
      "Applying strategy: link_iterable_by_fields\n"
     ]
    }
   ],
   "source": [
    "lci_lib_rms = bw.ExcelImporter(INVENTORIES_PATH)\n",
    "lci_lib_rms.apply_strategies()\n",
    "lci_lib_rms.match_database(\"ecoinvent-3.10-cutoff\", fields=('name', 'reference product', 'unit', 'location'))\n",
    "lci_lib_rms.match_database(\"ecoinvent-3.10-biosphere\", fields=('name', 'unit', 'categories'))"
   ]
  },
  {
   "cell_type": "code",
   "execution_count": 6,
   "metadata": {},
   "outputs": [
    {
     "name": "stderr",
     "output_type": "stream",
     "text": [
      "Writing activities to SQLite3 database:\n",
      "0% [######                 ] 100% | ETA: 00:00:00"
     ]
    },
    {
     "name": "stderr",
     "output_type": "stream",
     "text": [
      "0% [#######################] 100% | ETA: 00:00:00\n",
      "Total time elapsed: 00:00:00\n"
     ]
    },
    {
     "name": "stdout",
     "output_type": "stream",
     "text": [
      "Title: Writing activities to SQLite3 database:\n",
      "  Started: 04/18/2024 12:41:53\n",
      "  Finished: 04/18/2024 12:41:53\n",
      "  Total time elapsed: 00:00:00\n",
      "  CPU %: 22.20\n",
      "  Memory %: 6.81\n",
      "Created database: EV battery metals\n"
     ]
    }
   ],
   "source": [
    "lci_lib_rms.write_database()"
   ]
  },
  {
   "cell_type": "code",
   "execution_count": 8,
   "metadata": {},
   "outputs": [],
   "source": [
    "for ds in lci_lib_rms.data:\n",
    "    for exc in ds['exchanges']:\n",
    "        if 'amount' not in exc:\n",
    "            print(\"Missing `amount` in exc:\")\n",
    "            print(\"\\t\", exc)\n",
    "            print(\"Dataset\", ds['name'], ds['location'])\n",
    "        elif 'input' not in exc:\n",
    "            # check just to make sure\n",
    "            print(\"Missing `input` in exc:\")\n",
    "            print(\"\\t\", exc)\n",
    "            print(\"Dataset\", ds['name'], ds['location'])  "
   ]
  },
  {
   "cell_type": "code",
   "execution_count": null,
   "metadata": {},
   "outputs": [],
   "source": []
  }
 ],
 "metadata": {
  "kernelspec": {
   "display_name": "iri_ei39",
   "language": "python",
   "name": "python3"
  },
  "language_info": {
   "codemirror_mode": {
    "name": "ipython",
    "version": 3
   },
   "file_extension": ".py",
   "mimetype": "text/x-python",
   "name": "python",
   "nbconvert_exporter": "python",
   "pygments_lexer": "ipython3",
   "version": "3.11.0"
  }
 },
 "nbformat": 4,
 "nbformat_minor": 2
}
