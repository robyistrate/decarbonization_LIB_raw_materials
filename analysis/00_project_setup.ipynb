{
 "cells": [
  {
   "cell_type": "markdown",
   "metadata": {},
   "source": [
    "# Set-up BW project"
   ]
  },
  {
   "cell_type": "code",
   "execution_count": 12,
   "metadata": {},
   "outputs": [],
   "source": [
    "%run _imports.ipynb"
   ]
  },
  {
   "cell_type": "markdown",
   "metadata": {},
   "source": [
    "## Create/open BW project and import databases"
   ]
  },
  {
   "cell_type": "code",
   "execution_count": 13,
   "metadata": {},
   "outputs": [],
   "source": [
    "BW_PROJECT = 'iri_work' # insert your project name here\n",
    "bw.projects.set_current(BW_PROJECT)\n",
    "\n",
    "EI_DB = 'ecoinvent 3.9.1 cutoff' # name of ecoinvent database in your project\n",
    "METALS_DB = \"EV battery metals\""
   ]
  },
  {
   "cell_type": "markdown",
   "metadata": {},
   "source": [
    "Import biosphere database"
   ]
  },
  {
   "cell_type": "code",
   "execution_count": 3,
   "metadata": {},
   "outputs": [
    {
     "name": "stdout",
     "output_type": "stream",
     "text": [
      "Biosphere database already installed\n"
     ]
    }
   ],
   "source": [
    "if 'biosphere3' in bw.databases:\n",
    "    print('Biosphere database already installed')\n",
    "else:\n",
    "    bw.bw2setup()"
   ]
  },
  {
   "cell_type": "markdown",
   "metadata": {},
   "source": [
    "Import ecoinvent database\n",
    "\n",
    "*Note: The results presented in the scientific article were produced with ecoinvent 3.9.1 cut-off system model*"
   ]
  },
  {
   "cell_type": "code",
   "execution_count": 4,
   "metadata": {},
   "outputs": [
    {
     "name": "stdout",
     "output_type": "stream",
     "text": [
      "Ecoinvent database already installed\n"
     ]
    }
   ],
   "source": [
    "EI_PATH = 'XXXXXXXXX' # <- insert the path to ecoinvent datasets here\n",
    "\n",
    "if EI_DB in bw.databases:\n",
    "    print('Ecoinvent database already installed')\n",
    "else:\n",
    "    ei = bw.SingleOutputEcospold2Importer(EI_PATH, EI_DB)\n",
    "    ei.apply_strategies()\n",
    "    ei.statistics()\n",
    "    ei.write_database()"
   ]
  },
  {
   "cell_type": "markdown",
   "metadata": {},
   "source": [
    "## Import metals inventories"
   ]
  },
  {
   "cell_type": "markdown",
   "metadata": {},
   "source": [
    "Import baseline inventories and link to ecoinvent and biosphere databases"
   ]
  },
  {
   "cell_type": "code",
   "execution_count": 14,
   "metadata": {},
   "outputs": [
    {
     "name": "stdout",
     "output_type": "stream",
     "text": [
      "Extracted 5 worksheets in 0.61 seconds\n",
      "Applying strategy: csv_restore_tuples\n",
      "Applying strategy: csv_restore_booleans\n",
      "Applying strategy: csv_numerize\n",
      "Applying strategy: csv_drop_unknown\n",
      "Applying strategy: csv_add_missing_exchanges_section\n",
      "Applying strategy: normalize_units\n",
      "Applying strategy: normalize_biosphere_categories\n",
      "Applying strategy: normalize_biosphere_names\n",
      "Applying strategy: strip_biosphere_exc_locations\n",
      "Applying strategy: set_code_by_activity_hash\n",
      "Applying strategy: link_iterable_by_fields\n",
      "Applying strategy: assign_only_product_as_production\n",
      "Applying strategy: link_technosphere_by_activity_hash\n",
      "Applying strategy: drop_falsey_uncertainty_fields_but_keep_zeros\n",
      "Applying strategy: convert_uncertainty_types_to_integers\n",
      "Applying strategy: convert_activity_parameters_to_list\n",
      "Applied 16 strategies in 9.30 seconds\n",
      "Applying strategy: link_iterable_by_fields\n",
      "Applying strategy: link_iterable_by_fields\n"
     ]
    }
   ],
   "source": [
    "lci_metals = bw.ExcelImporter(INVENTORIES_PATH)\n",
    "lci_metals.apply_strategies()\n",
    "lci_metals.match_database(EI_DB, fields=('name', 'reference product', 'unit', 'location'))\n",
    "lci_metals.match_database(\"biosphere3\", fields=('name', 'unit', 'categories'))\n",
    "\n",
    "# The ExcelImporter requires that a 'reference product' is defined for every technosphere exchange.\n",
    "# However, the ecoinvent database imported in BW2 as well as wurst use 'product' for technosphere exchanges.\n",
    "# The following function replaces 'reference product' by 'product' in technosphere exchanges.\n",
    "supporting_functions.correct_product_in_exchanges(lci_metals)"
   ]
  },
  {
   "cell_type": "markdown",
   "metadata": {},
   "source": [
    "Create regionalized inventories for heating activities"
   ]
  },
  {
   "cell_type": "code",
   "execution_count": 4,
   "metadata": {},
   "outputs": [
    {
     "name": "stdout",
     "output_type": "stream",
     "text": [
      "Getting activity data\n"
     ]
    },
    {
     "name": "stderr",
     "output_type": "stream",
     "text": [
      "100%|██████████| 21238/21238 [00:00<00:00, 76141.70it/s]\n"
     ]
    },
    {
     "name": "stdout",
     "output_type": "stream",
     "text": [
      "Adding exchange data to activities\n"
     ]
    },
    {
     "name": "stderr",
     "output_type": "stream",
     "text": [
      "100%|██████████| 674593/674593 [01:28<00:00, 7664.25it/s] \n"
     ]
    },
    {
     "name": "stdout",
     "output_type": "stream",
     "text": [
      "Filling out exchange data\n"
     ]
    },
    {
     "name": "stderr",
     "output_type": "stream",
     "text": [
      "100%|██████████| 21238/21238 [00:03<00:00, 6143.68it/s] \n"
     ]
    }
   ],
   "source": [
    "# Import ecoinvent database into wurst format (i.e., list of dictionary, each dict being a dataset)\n",
    "try:\n",
    "  len(ei_db)\n",
    "except NameError:\n",
    "  ei_db = wurst.extract_brightway2_databases(EI_DB)"
   ]
  },
  {
   "cell_type": "code",
   "execution_count": 15,
   "metadata": {},
   "outputs": [],
   "source": [
    "# Get inventories info:\n",
    "breakdown_lists = supporting_functions.get_breakdown_lists()\n",
    "technosphere = lambda x: x[\"type\"] == \"technosphere\"\n",
    "\n",
    "lci_regionalized = []\n",
    "\n",
    "for ds in lci_metals.data:\n",
    "    if ds[\"location\"] == \"GLO\":\n",
    "        pass\n",
    "    else:\n",
    "        for exc in filter(technosphere, ds[\"exchanges\"]):\n",
    "            if exc[\"product\"] in breakdown_lists[\"heating products\"] + [\"coal tar\"]:\n",
    "\n",
    "                replicated_lcis = [(e[\"name\"], e[\"reference product\"], e[\"location\"]) for e in lci_regionalized] \n",
    "                \n",
    "                if (exc[\"name\"], exc[\"product\"], ds[\"location\"]) in replicated_lcis:\n",
    "                    ds_loc = [e for e in lci_regionalized if\n",
    "                            e[\"name\"] == exc[\"name\"] and\n",
    "                            e[\"reference product\"] == exc[\"product\"] and\n",
    "                            e[\"location\"] == ds[\"location\"]][0]\n",
    "                else:\n",
    "                    exc_ds = wurst.get_one(\n",
    "                        ei_db, \n",
    "                        wurst.contains(\"name\", exc[\"name\"]),\n",
    "                        wurst.contains(\"reference product\", exc[\"product\"]),\n",
    "                        wurst.contains(\"location\", exc[\"location\"])\n",
    "                    )\n",
    "\n",
    "                    ds_loc = supporting_functions.replicate_activity_to_location(exc_ds, ds[\"location\"], ei_db, METALS_DB)\n",
    "                    lci_regionalized.append(ds_loc)\n",
    "\n",
    "\n",
    "                exc.update(\n",
    "                        {\"location\": ds_loc[\"location\"],\n",
    "                        \"database\": ds_loc[\"database\"],\n",
    "                        \"input\": (ds_loc[\"database\"], ds_loc[\"code\"])\n",
    "                        }\n",
    "                    )"
   ]
  },
  {
   "cell_type": "code",
   "execution_count": 16,
   "metadata": {},
   "outputs": [],
   "source": [
    "for ds in lci_regionalized:\n",
    "    if ds[\"name\"] == \"steam production, as energy carrier, in chemical industry\":\n",
    "        for exc in filter(technosphere, ds[\"exchanges\"]):\n",
    "            if \"heat\" in exc[\"name\"]:\n",
    "                if (exc[\"name\"], exc[\"product\"], ds[\"location\"]) in replicated_lcis:\n",
    "                    ds_loc = [e for e in lci_regionalized if\n",
    "                                e[\"name\"] == exc[\"name\"] and\n",
    "                                e[\"reference product\"] == exc[\"product\"] and\n",
    "                                e[\"location\"] == ds[\"location\"]][0]\n",
    "                else:\n",
    "                    exc_ds = wurst.get_one(\n",
    "                            ei_db, \n",
    "                            wurst.contains(\"name\", exc[\"name\"]),\n",
    "                            wurst.contains(\"reference product\", exc[\"product\"]),\n",
    "                            wurst.contains(\"location\", exc[\"location\"])\n",
    "                        )\n",
    "\n",
    "                    ds_loc = supporting_functions.replicate_activity_to_location(exc_ds, ds[\"location\"], ei_db, METALS_DB)\n",
    "                    lci_regionalized.append(ds_loc)   \n",
    "                    \n",
    "                exc.update(\n",
    "                            {\"location\": ds_loc[\"location\"],\n",
    "                            \"database\": ds_loc[\"database\"],\n",
    "                            \"input\": (ds_loc[\"database\"], ds_loc[\"code\"])\n",
    "                            }\n",
    "                        )             "
   ]
  },
  {
   "cell_type": "markdown",
   "metadata": {},
   "source": [
    "## Create a new LCI database with these inventories"
   ]
  },
  {
   "cell_type": "code",
   "execution_count": 17,
   "metadata": {},
   "outputs": [
    {
     "name": "stderr",
     "output_type": "stream",
     "text": [
      "Writing activities to SQLite3 database:\n"
     ]
    },
    {
     "name": "stdout",
     "output_type": "stream",
     "text": [
      "28 datasets\n",
      "621 exchanges\n",
      "0 unlinked exchanges\n",
      "  \n"
     ]
    },
    {
     "name": "stderr",
     "output_type": "stream",
     "text": [
      "0% [############################] 100% | ETA: 00:00:00\n",
      "Total time elapsed: 00:00:00\n"
     ]
    },
    {
     "name": "stdout",
     "output_type": "stream",
     "text": [
      "Title: Writing activities to SQLite3 database:\n",
      "  Started: 02/06/2024 23:11:22\n",
      "  Finished: 02/06/2024 23:11:23\n",
      "  Total time elapsed: 00:00:00\n",
      "  CPU %: 100.20\n",
      "  Memory %: 32.06\n",
      "Created database: EV battery metals\n"
     ]
    }
   ],
   "source": [
    "if METALS_DB in bw.databases:\n",
    "    del bw.databases[METALS_DB]\n",
    "wurst.write_brightway2_database(lci_metals.data + lci_regionalized, METALS_DB)"
   ]
  },
  {
   "cell_type": "code",
   "execution_count": null,
   "metadata": {},
   "outputs": [],
   "source": []
  }
 ],
 "metadata": {
  "kernelspec": {
   "display_name": "iri_ei39",
   "language": "python",
   "name": "python3"
  },
  "language_info": {
   "codemirror_mode": {
    "name": "ipython",
    "version": 3
   },
   "file_extension": ".py",
   "mimetype": "text/x-python",
   "name": "python",
   "nbconvert_exporter": "python",
   "pygments_lexer": "ipython3",
   "version": "3.10.2"
  }
 },
 "nbformat": 4,
 "nbformat_minor": 2
}
