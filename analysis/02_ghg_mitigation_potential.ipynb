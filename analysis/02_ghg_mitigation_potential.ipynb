{
 "cells": [
  {
   "cell_type": "markdown",
   "metadata": {},
   "source": [
    "# Analysis of mitigation potential of five strategies:\n",
    "\n",
    " 1. Decarbonization of on-site electricity consumption (switch to wind power)\n",
    " 2. Decarbonization of process heat (electrification of heat)\n",
    " 3. Decarbonization of electricity in chemical indsutry (switch to wind power)\n",
    " 4. Decarbonization of process heat in chemical industry (electrification of heat)\n",
    " 5. Decarbonization of global power (switch to wind)"
   ]
  },
  {
   "cell_type": "markdown",
   "metadata": {},
   "source": [
    "### Basic set-up"
   ]
  },
  {
   "cell_type": "code",
   "execution_count": 1,
   "metadata": {},
   "outputs": [],
   "source": [
    "%run _imports.ipynb"
   ]
  },
  {
   "cell_type": "code",
   "execution_count": 2,
   "metadata": {},
   "outputs": [],
   "source": [
    "BW_PROJECT = 'iri_work' # insert your project name here\n",
    "bw.projects.set_current(BW_PROJECT)\n",
    "\n",
    "EI_DB = 'ecoinvent 3.9.1 cutoff' # name of ecoinvent database in your project\n",
    "METALS_DB = \"EV battery metals\"\n",
    "\n",
    "INVENTORIES = {\n",
    "    \"Lithium, brine\":        (\"lithium carbonate production, from Salar de Atacama\", \"lithium carbonate, battery grade\", \"CL\"),\n",
    "    \"Lithium, spodumene\":    (\"lithium carbonate production, from Greenbushes mine\", \"lithium carbonate, battery grade\", \"CN\"),\n",
    "    \"Cobalt\":                (\"cobalt sulfate production, from copper mining, economic allocation\", \"cobalt sulfate\", \"CN\"),\n",
    "    \"Graphite, natural\":     (\"natural graphite production, battery grade, from Heilongjiang\", \"natural graphite, battery grade\", \"CN\"),\n",
    "    \"Graphite, synthetic\":   (\"synthetic graphite production, graphitization\", \"synthetic graphite, 99.9% pure\", \"CN\")\n",
    "}\n",
    "\n",
    "IMPACT_METHODS = {\n",
    "    \"Climate change\": ('IPCC 2021', 'climate change: including SLCFs', 'global warming potential (GWP100)')\n",
    " }\n",
    "\n",
    "technosphere = lambda x: x[\"type\"] == \"technosphere\"\n",
    "\n",
    "breakdown_lists = supporting_functions.get_breakdown_lists()"
   ]
  },
  {
   "cell_type": "code",
   "execution_count": 3,
   "metadata": {},
   "outputs": [],
   "source": [
    "dbs_strategies = {\n",
    "    \"BAU\": METALS_DB,\n",
    "    \"ONSITE_ELEC\": METALS_DB + \", wind power on-site\",\n",
    "    \"PROCESS_HEAT\": METALS_DB + \", + electrification process heat\",\n",
    "    \"CHEMICALS_ELEC\": METALS_DB + \", + wind power in chemical industry\",\n",
    "    \"CHEMICALS_HEAT\": METALS_DB + \", + electrification heat in chemical industry\",\n",
    "    \"GLOBAL_ELEC\": METALS_DB + \", + wind power in all activities\",\n",
    "}\n",
    "\n",
    "# Datasets used to model decarbonization strategies\n",
    "\n",
    "# On-site electricity source shifts to wind onshore\n",
    "wind_filter = {\n",
    "    'name': \"electricity production, wind, 1-3MW turbine, onshore\",\n",
    "    'product': \"electricity, high voltage\",\n",
    "    'unit': \"kilowatt hour\"\n",
    "    }\n",
    "\n",
    "# Process heat is electrified\n",
    "heat_filter = {\n",
    "    'name': \"heat production, at heat pump 30kW, allocation exergy\",\n",
    "    'product': \"heat, central or small-scale, other than natural gas\",\n",
    "    'unit': \"megajoule\"\n",
    "    }"
   ]
  },
  {
   "cell_type": "code",
   "execution_count": 4,
   "metadata": {},
   "outputs": [
    {
     "name": "stdout",
     "output_type": "stream",
     "text": [
      "Getting activity data\n"
     ]
    },
    {
     "name": "stderr",
     "output_type": "stream",
     "text": [
      "100%|██████████| 21238/21238 [00:00<00:00, 138006.05it/s]\n"
     ]
    },
    {
     "name": "stdout",
     "output_type": "stream",
     "text": [
      "Adding exchange data to activities\n"
     ]
    },
    {
     "name": "stderr",
     "output_type": "stream",
     "text": [
      "100%|██████████| 674593/674593 [00:51<00:00, 13107.81it/s]\n"
     ]
    },
    {
     "name": "stdout",
     "output_type": "stream",
     "text": [
      "Filling out exchange data\n"
     ]
    },
    {
     "name": "stderr",
     "output_type": "stream",
     "text": [
      "100%|██████████| 21238/21238 [00:03<00:00, 6132.43it/s] \n"
     ]
    },
    {
     "name": "stdout",
     "output_type": "stream",
     "text": [
      "Getting activity data\n"
     ]
    },
    {
     "name": "stderr",
     "output_type": "stream",
     "text": [
      "100%|██████████| 25/25 [00:00<00:00, 12499.42it/s]\n"
     ]
    },
    {
     "name": "stdout",
     "output_type": "stream",
     "text": [
      "Adding exchange data to activities\n"
     ]
    },
    {
     "name": "stderr",
     "output_type": "stream",
     "text": [
      "100%|██████████| 598/598 [00:00<00:00, 17845.69it/s]\n"
     ]
    },
    {
     "name": "stdout",
     "output_type": "stream",
     "text": [
      "Filling out exchange data\n"
     ]
    },
    {
     "name": "stderr",
     "output_type": "stream",
     "text": [
      "100%|██████████| 25/25 [00:00<00:00, 106.00it/s]\n"
     ]
    }
   ],
   "source": [
    "# Import ecoinvent database into wurst format (i.e., list of dictionary, each dict being a dataset)\n",
    "try:\n",
    "  len(ei_db)\n",
    "except NameError:\n",
    "  ei_db = wurst.extract_brightway2_databases(EI_DB)\n",
    "\n",
    "# Import metals inventories into wurst format (i.e., list of dictionary, each dict being a dataset)\n",
    "try:\n",
    "  len(metals_db)\n",
    "except NameError:\n",
    "  metals_db = wurst.extract_brightway2_databases(METALS_DB)"
   ]
  },
  {
   "cell_type": "code",
   "execution_count": 5,
   "metadata": {},
   "outputs": [],
   "source": [
    "# Copy of databases for modification:\n",
    "ei_db_modif = copy.deepcopy(ei_db)\n",
    "metals_db_modif = copy.deepcopy(metals_db)"
   ]
  },
  {
   "cell_type": "markdown",
   "metadata": {},
   "source": [
    "### 1. Decarbonization of on-site electricity consumption"
   ]
  },
  {
   "cell_type": "code",
   "execution_count": 79,
   "metadata": {},
   "outputs": [],
   "source": [
    "for ds in metals_db_modif:\n",
    "    if ds[\"location\"] == \"GLO\":\n",
    "        pass\n",
    "    else:\n",
    "        wind_ds_loc = supporting_functions.get_dataset_for_location(wind_filter, ds[\"location\"], ei_db)\n",
    "\n",
    "        for exc in filter(technosphere, ds[\"exchanges\"]):\n",
    "            if exc['product'] in ['electricity, low voltage',\n",
    "                                            \"electricity, medium voltage\",\n",
    "                                            \"electricity, high voltage\"]:\n",
    "                exc.update({\n",
    "                    'name': wind_ds_loc['name'],\n",
    "                    'product': wind_ds_loc['reference product'],\n",
    "                    'location': wind_ds_loc['location'],\n",
    "                    'input': (wind_ds_loc['database'], wind_ds_loc['code'])})"
   ]
  },
  {
   "cell_type": "code",
   "execution_count": 80,
   "metadata": {},
   "outputs": [
    {
     "name": "stderr",
     "output_type": "stream",
     "text": [
      "Writing activities to SQLite3 database:\n"
     ]
    },
    {
     "name": "stdout",
     "output_type": "stream",
     "text": [
      "25 datasets\n",
      "598 exchanges\n",
      "0 unlinked exchanges\n",
      "  \n"
     ]
    },
    {
     "name": "stderr",
     "output_type": "stream",
     "text": [
      "0% [#########################] 100% | ETA: 00:00:00\n",
      "Total time elapsed: 00:00:00\n"
     ]
    },
    {
     "name": "stdout",
     "output_type": "stream",
     "text": [
      "Title: Writing activities to SQLite3 database:\n",
      "  Started: 12/22/2023 13:11:17\n",
      "  Finished: 12/22/2023 13:11:17\n",
      "  Total time elapsed: 00:00:00\n",
      "  CPU %: 99.20\n",
      "  Memory %: 1.77\n",
      "Created database: EV battery metals, wind power on-site\n"
     ]
    }
   ],
   "source": [
    "if dbs_strategies[\"ONSITE_ELEC\"] in bw.databases:\n",
    "    del bw.databases[dbs_strategies[\"ONSITE_ELEC\"]]\n",
    "wurst.write_brightway2_database(metals_db_modif, dbs_strategies[\"ONSITE_ELEC\"])"
   ]
  },
  {
   "cell_type": "markdown",
   "metadata": {},
   "source": [
    "### 2. Electrification of process heat"
   ]
  },
  {
   "cell_type": "code",
   "execution_count": 81,
   "metadata": {},
   "outputs": [],
   "source": [
    "# Create regionalized heat pump datasets:\n",
    "list_countries = list(set([ds[\"location\"] for ds in metals_db_modif if ds[\"location\"] != \"GLO\"]))\n",
    "\n",
    "# Get heat pump dataset\n",
    "heat_pump_ds = supporting_functions.get_dataset_for_location(heat_filter, \"RoW\", ei_db)\n",
    "\n",
    "for c in list_countries:\n",
    "    # Get wind power\n",
    "    wind_ds_loc = supporting_functions.get_dataset_for_location(wind_filter, c, ei_db)\n",
    "\n",
    "    # Create heat pump dataset for location and substitute electricity source by wind\n",
    "    heat_pump_loc = supporting_functions.replicate_activity_to_location(heat_pump_ds, c, ei_db, METALS_DB)\n",
    "\n",
    "    for exc in filter(technosphere, heat_pump_loc[\"exchanges\"]):\n",
    "        if exc['product'] in ['electricity, low voltage',\n",
    "                                \"electricity, medium voltage\",\n",
    "                                \"electricity, high voltage\"]:\n",
    "            exc.update({\n",
    "                    'name': wind_ds_loc['name'],\n",
    "                    'product': wind_ds_loc['reference product'],\n",
    "                    'location': wind_ds_loc['location'],\n",
    "                    'input': (wind_ds_loc['database'], wind_ds_loc['code'])})\n",
    "\n",
    "    metals_db_modif.append(heat_pump_loc)"
   ]
  },
  {
   "cell_type": "code",
   "execution_count": 82,
   "metadata": {},
   "outputs": [],
   "source": [
    "for ds in metals_db_modif:\n",
    "    if ds[\"location\"] == \"GLO\":\n",
    "        pass\n",
    "    else:\n",
    "        heat_pump_loc = supporting_functions.get_dataset_for_location(heat_filter, ds[\"location\"], metals_db_modif)\n",
    "\n",
    "        for exc in filter(technosphere, ds[\"exchanges\"]):\n",
    "            if exc['product'] in breakdown_lists[\"heating products\"]:\n",
    "                exc.update({\n",
    "                    'name': heat_pump_loc['name'],\n",
    "                    'product': heat_pump_loc['reference product'],\n",
    "                    'location': heat_pump_loc['location'],\n",
    "                    'input': (heat_pump_loc['database'], heat_pump_loc['code'])})"
   ]
  },
  {
   "cell_type": "code",
   "execution_count": 83,
   "metadata": {},
   "outputs": [
    {
     "name": "stderr",
     "output_type": "stream",
     "text": [
      "Writing activities to SQLite3 database:\n"
     ]
    },
    {
     "name": "stdout",
     "output_type": "stream",
     "text": [
      "29 datasets\n",
      "614 exchanges\n",
      "0 unlinked exchanges\n",
      "  \n"
     ]
    },
    {
     "name": "stderr",
     "output_type": "stream",
     "text": [
      "0% [#############################] 100% | ETA: 00:00:00\n",
      "Total time elapsed: 00:00:00\n"
     ]
    },
    {
     "name": "stdout",
     "output_type": "stream",
     "text": [
      "Title: Writing activities to SQLite3 database:\n",
      "  Started: 12/22/2023 13:11:36\n",
      "  Finished: 12/22/2023 13:11:36\n",
      "  Total time elapsed: 00:00:00\n",
      "  CPU %: 99.70\n",
      "  Memory %: 1.83\n",
      "Created database: EV battery metals, + electrification process heat\n"
     ]
    }
   ],
   "source": [
    "if dbs_strategies[\"PROCESS_HEAT\"] in bw.databases:\n",
    "    del bw.databases[dbs_strategies[\"PROCESS_HEAT\"]]\n",
    "wurst.write_brightway2_database(metals_db_modif, dbs_strategies[\"PROCESS_HEAT\"])"
   ]
  },
  {
   "cell_type": "markdown",
   "metadata": {},
   "source": [
    "### 3. Decarbonization of electricity in chemical industry"
   ]
  },
  {
   "cell_type": "code",
   "execution_count": 84,
   "metadata": {},
   "outputs": [],
   "source": [
    "EI_CHEMICALS_WIND = \"ecoinvent 3.9.1 cutoff, chemicals production powered by wind\""
   ]
  },
  {
   "cell_type": "code",
   "execution_count": 11,
   "metadata": {},
   "outputs": [],
   "source": [
    "# Get list of product categories corresponding to chemicals\n",
    "product_categories = []\n",
    "used_reagents_categories = []\n",
    "\n",
    "for ds in ei_db_modif:\n",
    "    product_category = [i[1] for i in ds[\"classifications\"] if i[0] == 'ISIC rev.4 ecoinvent']\n",
    "    if len(product_category) > 0:\n",
    "        product_categories.append(product_category[0])\n",
    "\n",
    "        if ds[\"reference product\"] in breakdown_lists[\"reagent products\"]:\n",
    "            used_reagents_categories.append(product_category[0])\n",
    "        \n",
    "product_categories = list(set(product_categories))\n",
    "used_reagents_categories = list(set(used_reagents_categories))"
   ]
  },
  {
   "cell_type": "code",
   "execution_count": 12,
   "metadata": {},
   "outputs": [
    {
     "data": {
      "text/plain": [
       "['2420:Manufacture of basic precious and other non-ferrous metals',\n",
       " '0729:Mining of other non-ferrous metal ores',\n",
       " '0891:Mining of chemical and fertilizer minerals',\n",
       " '2394:Manufacture of cement, lime and plaster',\n",
       " '2013:Manufacture of plastics and synthetic rubber in primary forms',\n",
       " '2030:Manufacture of man-made fibres',\n",
       " '2011:Manufacture of basic chemicals',\n",
       " '0810:Quarrying of stone, sand and clay',\n",
       " '1920:Manufacture of refined petroleum products',\n",
       " '2012:Manufacture of fertilizers and nitrogen compounds',\n",
       " '3830:Materials recovery',\n",
       " '0620:Extraction of natural gas',\n",
       " '1040:Manufacture of vegetable and animal oils and fats']"
      ]
     },
     "execution_count": 12,
     "metadata": {},
     "output_type": "execute_result"
    }
   ],
   "source": [
    "used_reagents_categories"
   ]
  },
  {
   "cell_type": "code",
   "execution_count": 13,
   "metadata": {},
   "outputs": [],
   "source": [
    "chemicals_ISIC_categories = [\n",
    "    '1920:Manufacture of refined petroleum products',\n",
    "    '1040:Manufacture of vegetable and animal oils and fats',\n",
    "    '2394:Manufacture of cement, lime and plaster',\n",
    "    '0891:Mining of chemical and fertilizer minerals',\n",
    "    '2011:Manufacture of basic chemicals',\n",
    "    '0810:Quarrying of stone, sand and clay',\n",
    "    '2012:Manufacture of fertilizers and nitrogen compounds',\n",
    "    '2030:Manufacture of man-made fibres',\n",
    "    '2013:Manufacture of plastics and synthetic rubber in primary forms',\n",
    "    '2100:Manufacture of pharmaceuticals, medicinal chemical and botanical products',\n",
    "    '2029:Manufacture of other chemical products n.e.c.',\n",
    "    '2220:Manufacture of plastics products',\n",
    "    '201:Manufacture of basic chemicals, fertilizers and nitrogen compounds, plastics',\n",
    "    '20:Manufacture of chemicals and chemical products',\n",
    "    '2023:Manufacture of soap and detergents, cleaning and polishing preparations, pe'\n",
    "]"
   ]
  },
  {
   "cell_type": "code",
   "execution_count": 14,
   "metadata": {},
   "outputs": [],
   "source": [
    "for ds in ei_db_modif:\n",
    "    product_category = [i[1] for i in ds[\"classifications\"] if i[0] == 'ISIC rev.4 ecoinvent']\n",
    "\n",
    "    if len(product_category) > 0:\n",
    "        if product_category[0] in chemicals_ISIC_categories:\n",
    "\n",
    "            # Get wind power\n",
    "            wind_ds_loc = supporting_functions.get_dataset_for_location(wind_filter, ds[\"location\"], ei_db_modif)\n",
    "\n",
    "            for exc in filter(technosphere, ds[\"exchanges\"]):\n",
    "                if exc['product'] in ['electricity, low voltage',\n",
    "                                    \"electricity, medium voltage\",\n",
    "                                    \"electricity, high voltage\"]:\n",
    "                    exc.update({\n",
    "                        'name': wind_ds_loc['name'],\n",
    "                        'product': wind_ds_loc['reference product'],\n",
    "                        'location': wind_ds_loc['location'],\n",
    "                        'input': (wind_ds_loc['database'], wind_ds_loc['code'])}\n",
    "                    )"
   ]
  },
  {
   "cell_type": "code",
   "execution_count": 25,
   "metadata": {},
   "outputs": [
    {
     "name": "stdout",
     "output_type": "stream",
     "text": [
      "Vacuuming database \n",
      "21238 datasets\n",
      "674593 exchanges\n",
      "0 unlinked exchanges\n",
      "  \n"
     ]
    },
    {
     "name": "stderr",
     "output_type": "stream",
     "text": [
      "Writing activities to SQLite3 database:\n",
      "0% [##############################] 100% | ETA: 00:00:00\n",
      "Total time elapsed: 00:00:44\n"
     ]
    },
    {
     "name": "stdout",
     "output_type": "stream",
     "text": [
      "Title: Writing activities to SQLite3 database:\n",
      "  Started: 12/22/2023 12:07:11\n",
      "  Finished: 12/22/2023 12:07:56\n",
      "  Total time elapsed: 00:00:44\n",
      "  CPU %: 81.00\n",
      "  Memory %: 26.45\n",
      "Created database: ecoinvent 3.9.1 cutoff, chemicals production powered by wind\n"
     ]
    }
   ],
   "source": [
    "# Write the modified ecoinvent database to memory\n",
    "if DB_CHEMICALS_WIND in bw.databases:\n",
    "    del bw.databases[DB_CHEMICALS_WIND]\n",
    "wurst.write_brightway2_database(ei_db_modif, EI_CHEMICALS_WIND)"
   ]
  },
  {
   "cell_type": "code",
   "execution_count": 85,
   "metadata": {},
   "outputs": [],
   "source": [
    "# Link metal inventories to the modified ecoinvent version\n",
    "for ds in metals_db_modif:\n",
    "    for exc in filter(technosphere, ds[\"exchanges\"]):\n",
    "        if \"ecoinvent\" in exc[\"database\"]:\n",
    "            exc_ds = [\n",
    "                d for d in bw.Database(EI_CHEMICALS_WIND) if \n",
    "                d[\"name\"] == exc[\"name\"] and\n",
    "                d[\"reference product\"] == exc[\"product\"] and\n",
    "                d[\"location\"] == exc[\"location\"] and\n",
    "                d[\"unit\"] == exc[\"unit\"]\n",
    "                ][0]\n",
    "                \n",
    "            exc.update(\n",
    "                {\n",
    "                    \"input\": (exc_ds[\"database\"], exc_ds[\"code\"])\n",
    "                }\n",
    "            )"
   ]
  },
  {
   "cell_type": "code",
   "execution_count": 86,
   "metadata": {},
   "outputs": [
    {
     "name": "stdout",
     "output_type": "stream",
     "text": [
      "29 datasets\n",
      "614 exchanges\n",
      "0 unlinked exchanges\n",
      "  \n"
     ]
    },
    {
     "name": "stderr",
     "output_type": "stream",
     "text": [
      "Writing activities to SQLite3 database:\n",
      "0% [#############################] 100% | ETA: 00:00:00\n",
      "Total time elapsed: 00:00:00\n"
     ]
    },
    {
     "name": "stdout",
     "output_type": "stream",
     "text": [
      "Title: Writing activities to SQLite3 database:\n",
      "  Started: 12/22/2023 13:20:25\n",
      "  Finished: 12/22/2023 13:20:25\n",
      "  Total time elapsed: 00:00:00\n",
      "  CPU %: 71.70\n",
      "  Memory %: 20.72\n",
      "Created database: EV battery metals, + wind power in chemical industry\n"
     ]
    }
   ],
   "source": [
    "if dbs_strategies[\"CHEMICALS_ELEC\"] in bw.databases:\n",
    "    del bw.databases[dbs_strategies[\"CHEMICALS_ELEC\"]]\n",
    "wurst.write_brightway2_database(metals_db_modif, dbs_strategies[\"CHEMICALS_ELEC\"])"
   ]
  },
  {
   "cell_type": "markdown",
   "metadata": {},
   "source": [
    "**4. Electrification of heat in chemical industry**"
   ]
  },
  {
   "cell_type": "code",
   "execution_count": 64,
   "metadata": {},
   "outputs": [],
   "source": [
    "EI_CHEMICALS_HEAT = \"ecoinvent 3.9.1 cutoff, + electrification of heat in chemical industry\""
   ]
  },
  {
   "cell_type": "code",
   "execution_count": 37,
   "metadata": {},
   "outputs": [],
   "source": [
    "# Change electricity source for heat pump datasets\n",
    "for ds in ei_db_modif:\n",
    "    if ds[\"name\"] == heat_filter[\"name\"]:\n",
    "        # Get wind power dataset for location\n",
    "        wind_ds_loc = supporting_functions.get_dataset_for_location(wind_filter, ds[\"location\"], ei_db_modif)\n",
    "\n",
    "        # Change heat pump electricity source to wind\n",
    "        for exc in filter(technosphere, ds[\"exchanges\"]):\n",
    "            if exc['product'] in ['electricity, low voltage',\n",
    "                                \"electricity, medium voltage\",\n",
    "                                \"electricity, high voltage\"]:\n",
    "                exc.update({\n",
    "                    'name': wind_ds_loc['name'],\n",
    "                    'product': wind_ds_loc['reference product'],\n",
    "                    'location': wind_ds_loc['location'],\n",
    "                    'input': (wind_ds_loc['database'], wind_ds_loc['code'])}\n",
    "            )"
   ]
  },
  {
   "cell_type": "code",
   "execution_count": 38,
   "metadata": {},
   "outputs": [],
   "source": [
    "# Change heat source in chemical datasets\n",
    "all_heat_sources = list(set([ds[\"reference product\"] for ds in ei_db_modif if \"heat\" in ds[\"reference product\"] and ds[\"unit\"] == \"megajoule\"]))\n",
    "\n",
    "for ds in ei_db_modif:\n",
    "    product_category = [i[1] for i in ds[\"classifications\"] if i[0] == 'ISIC rev.4 ecoinvent']\n",
    "\n",
    "    if len(product_category) > 0:\n",
    "        if product_category[0] in chemicals_ISIC_categories:\n",
    "\n",
    "            # Get heat pump dataset\n",
    "            heat_pump_loc = supporting_functions.get_dataset_for_location(heat_filter, ds[\"location\"], ei_db_modif)\n",
    "            \n",
    "            for exc in filter(technosphere, ds[\"exchanges\"]):\n",
    "                if exc['product'] in all_heat_sources:\n",
    "                    exc.update({\n",
    "                        'name': heat_pump_loc['name'],\n",
    "                        'product': heat_pump_loc['reference product'],\n",
    "                        'location': heat_pump_loc['location'],\n",
    "                        'input': (heat_pump_loc['database'], heat_pump_loc['code'])})"
   ]
  },
  {
   "cell_type": "code",
   "execution_count": 40,
   "metadata": {},
   "outputs": [
    {
     "name": "stdout",
     "output_type": "stream",
     "text": [
      "Vacuuming database \n",
      "21238 datasets\n",
      "674593 exchanges\n",
      "0 unlinked exchanges\n",
      "  \n"
     ]
    },
    {
     "name": "stderr",
     "output_type": "stream",
     "text": [
      "Writing activities to SQLite3 database:\n",
      "0% [##############################] 100% | ETA: 00:00:00\n",
      "Total time elapsed: 00:01:26\n"
     ]
    },
    {
     "name": "stdout",
     "output_type": "stream",
     "text": [
      "Title: Writing activities to SQLite3 database:\n",
      "  Started: 12/22/2023 12:22:49\n",
      "  Finished: 12/22/2023 12:24:16\n",
      "  Total time elapsed: 00:01:26\n",
      "  CPU %: 93.70\n",
      "  Memory %: 26.51\n",
      "Created database: ecoinvent 3.9.1 cutoff, + electrification of heat in chemical industry\n"
     ]
    }
   ],
   "source": [
    "# Write the modified ecoinvent database to memory\n",
    "if EI_CHEMICALS_HEAT in bw.databases:\n",
    "    del bw.databases[EI_CHEMICALS_HEAT]\n",
    "wurst.write_brightway2_database(ei_db_modif, EI_CHEMICALS_HEAT)"
   ]
  },
  {
   "cell_type": "code",
   "execution_count": 65,
   "metadata": {},
   "outputs": [],
   "source": [
    "# Link metal inventories to the modified ecoinvent version\n",
    "for ds in metals_db_modif:\n",
    "    for exc in filter(technosphere, ds[\"exchanges\"]):\n",
    "        if \"ecoinvent\" in exc[\"database\"]:\n",
    "            exc_ds = [\n",
    "                d for d in ei_db_modif if \n",
    "                d[\"name\"] == exc[\"name\"] and\n",
    "                d[\"reference product\"] == exc[\"product\"] and\n",
    "                d[\"location\"] == exc[\"location\"] and\n",
    "                d[\"unit\"] == exc[\"unit\"]\n",
    "                ][0]\n",
    "                \n",
    "            exc.update(\n",
    "                {\n",
    "                    \"input\": (exc_ds[\"database\"], exc_ds[\"code\"])\n",
    "                }\n",
    "            )"
   ]
  },
  {
   "cell_type": "code",
   "execution_count": 66,
   "metadata": {},
   "outputs": [
    {
     "name": "stderr",
     "output_type": "stream",
     "text": [
      "Writing activities to SQLite3 database:\n"
     ]
    },
    {
     "name": "stdout",
     "output_type": "stream",
     "text": [
      "29 datasets\n",
      "614 exchanges\n",
      "0 unlinked exchanges\n",
      "  \n"
     ]
    },
    {
     "name": "stderr",
     "output_type": "stream",
     "text": [
      "0% [#############################] 100% | ETA: 00:00:00\n",
      "Total time elapsed: 00:00:00\n"
     ]
    },
    {
     "name": "stdout",
     "output_type": "stream",
     "text": [
      "Title: Writing activities to SQLite3 database:\n",
      "  Started: 12/22/2023 12:45:26\n",
      "  Finished: 12/22/2023 12:45:26\n",
      "  Total time elapsed: 00:00:00\n",
      "  CPU %: 75.60\n",
      "  Memory %: 5.85\n",
      "Created database: EV battery metals, + electrification heat in chemical industry\n"
     ]
    }
   ],
   "source": [
    "if dbs_strategies[\"CHEMICALS_HEAT\"] in bw.databases:\n",
    "    del bw.databases[dbs_strategies[\"CHEMICALS_HEAT\"]]\n",
    "wurst.write_brightway2_database(metals_db_modif, dbs_strategies[\"CHEMICALS_HEAT\"])"
   ]
  },
  {
   "cell_type": "markdown",
   "metadata": {},
   "source": [
    "**5. Decarbonization of global power sector**"
   ]
  },
  {
   "cell_type": "code",
   "execution_count": 68,
   "metadata": {},
   "outputs": [],
   "source": [
    "EI_GLOBAL_POWER = \"ecoinvent 3.9.1 cutoff, + wind power in all sectors\""
   ]
  },
  {
   "cell_type": "code",
   "execution_count": 40,
   "metadata": {},
   "outputs": [
    {
     "name": "stderr",
     "output_type": "stream",
     "text": [
      "CN-SWG not found in regex\n",
      "CN-CCG not found in regex\n",
      "BR-South-eastern/Mid-western grid not found in regex\n",
      "CN-NWG not found in regex\n",
      "CN-SWG not found in regex\n",
      "BR-South-eastern/Mid-western grid not found in regex\n",
      "CN-ECGC not found in regex\n",
      "BR-South-eastern/Mid-western grid not found in regex\n",
      "CN-NCGC not found in regex\n",
      "RoE not found in ISO3\n",
      "CN-ECGC not found in regex\n",
      "CN-CCG not found in regex\n",
      "CN-ECGC not found in regex\n",
      "RoE not found in ISO3\n",
      "CN-ECGC not found in regex\n",
      "BR-South-eastern/Mid-western grid not found in regex\n",
      "CN-NCGC not found in regex\n",
      "CN-SWG not found in regex\n",
      "RoE not found in ISO3\n",
      "CN-ECGC not found in regex\n",
      "BR-South-eastern/Mid-western grid not found in regex\n",
      "BR-South-eastern/Mid-western grid not found in regex\n",
      "BR-South-eastern/Mid-western grid not found in regex\n",
      "BR-South-eastern/Mid-western grid not found in regex\n",
      "CN-ECGC not found in regex\n",
      "RoE not found in ISO3\n",
      "CN-CCG not found in regex\n",
      "RoE not found in ISO3\n",
      "CN-ECGC not found in regex\n",
      "CN-CCG not found in regex\n",
      "CN-SWG not found in regex\n",
      "RoE not found in ISO3\n",
      "BR-South-eastern/Mid-western grid not found in regex\n",
      "CN-CCG not found in regex\n",
      "RoE not found in ISO3\n",
      "RoE not found in ISO3\n",
      "BR-South-eastern/Mid-western grid not found in regex\n",
      "CN-SWG not found in regex\n",
      "CN-NCGC not found in regex\n",
      "RoE not found in ISO3\n",
      "CN-ECGC not found in regex\n",
      "CN-NECG not found in regex\n",
      "RoE not found in ISO3\n",
      "RoE not found in ISO3\n",
      "CN-CCG not found in regex\n",
      "CN-CCG not found in regex\n",
      "CN-NCGC not found in regex\n",
      "CN-NECG not found in regex\n",
      "CN-NCGC not found in regex\n",
      "CN-NWG not found in regex\n",
      "CN-NECG not found in regex\n",
      "BR-South-eastern/Mid-western grid not found in regex\n",
      "RoE not found in ISO3\n",
      "BR-South-eastern/Mid-western grid not found in regex\n",
      "CN-NECG not found in regex\n",
      "BR-South-eastern/Mid-western grid not found in regex\n",
      "BR-South-eastern/Mid-western grid not found in regex\n",
      "CN-NWG not found in regex\n",
      "CN-SWG not found in regex\n",
      "RoE not found in ISO3\n",
      "CN-NWG not found in regex\n",
      "BR-South-eastern/Mid-western grid not found in regex\n",
      "BR-South-eastern/Mid-western grid not found in regex\n",
      "CN-NCGC not found in regex\n",
      "RoE not found in ISO3\n",
      "CN-SWG not found in regex\n",
      "CN-ECGC not found in regex\n",
      "CN-ECGC not found in regex\n",
      "CN-NCGC not found in regex\n",
      "CN-NCGC not found in regex\n",
      "BR-South-eastern/Mid-western grid not found in regex\n",
      "CN-SWG not found in regex\n",
      "BR-South-eastern/Mid-western grid not found in regex\n",
      "CN-CCG not found in regex\n",
      "BR-South-eastern/Mid-western grid not found in regex\n",
      "CN-NECG not found in regex\n",
      "CN-NWG not found in regex\n",
      "BR-South-eastern/Mid-western grid not found in regex\n",
      "CN-NECG not found in regex\n",
      "CN-CCG not found in regex\n",
      "CN-NWG not found in regex\n",
      "BR-South-eastern/Mid-western grid not found in regex\n",
      "CN-NWG not found in regex\n"
     ]
    }
   ],
   "source": [
    "# Change electricity source for all activities\n",
    "for ds in ei_db_modif:\n",
    "    # Get wind power dataset for location\n",
    "    try:\n",
    "        wind_ds_loc = supporting_functions.get_dataset_for_location(wind_filter, ds[\"location\"], ei_db_modif)\n",
    "\n",
    "        # Change heat pump electricity source to wind\n",
    "        for exc in filter(technosphere, ds[\"exchanges\"]):\n",
    "            if exc['product'] in ['electricity, low voltage',\n",
    "                                    \"electricity, medium voltage\",\n",
    "                                    \"electricity, high voltage\"]:\n",
    "                exc.update({\n",
    "                    'name': wind_ds_loc['name'],\n",
    "                    'product': wind_ds_loc['reference product'],\n",
    "                    'location': wind_ds_loc['location'],\n",
    "                    'input': (wind_ds_loc['database'], wind_ds_loc['code'])}\n",
    "            )\n",
    "    except KeyError:\n",
    "        pass"
   ]
  },
  {
   "cell_type": "code",
   "execution_count": 41,
   "metadata": {},
   "outputs": [
    {
     "name": "stdout",
     "output_type": "stream",
     "text": [
      "21238 datasets\n",
      "674593 exchanges\n",
      "0 unlinked exchanges\n",
      "  \n"
     ]
    },
    {
     "name": "stderr",
     "output_type": "stream",
     "text": [
      "Writing activities to SQLite3 database:\n",
      "0% [##############################] 100% | ETA: 00:00:00\n",
      "Total time elapsed: 00:01:18\n"
     ]
    },
    {
     "name": "stdout",
     "output_type": "stream",
     "text": [
      "Title: Writing activities to SQLite3 database:\n",
      "  Started: 12/21/2023 17:43:45\n",
      "  Finished: 12/21/2023 17:45:03\n",
      "  Total time elapsed: 00:01:18\n",
      "  CPU %: 88.90\n",
      "  Memory %: 25.96\n",
      "Created database: ecoinvent 3.9.1 cutoff, + wind power in all sectors\n"
     ]
    }
   ],
   "source": [
    "# Write the modified ecoinvent database to memory\n",
    "if EI_GLOBAL_POWER in bw.databases:\n",
    "    del bw.databases[EI_GLOBAL_POWER]\n",
    "wurst.write_brightway2_database(ei_db_modif, EI_GLOBAL_POWER)"
   ]
  },
  {
   "cell_type": "code",
   "execution_count": 69,
   "metadata": {},
   "outputs": [],
   "source": [
    "# Relink metals inventories to the modified ecoinvent database\n",
    "for ds in metals_db_modif:\n",
    "    for exc in filter(technosphere, ds[\"exchanges\"]):\n",
    "        if \"ecoinvent\" in exc[\"database\"]:\n",
    "            exc_ds = [\n",
    "                d for d in bw.Database(EI_GLOBAL_POWER) if \n",
    "                d[\"name\"] == exc[\"name\"] and\n",
    "                d[\"reference product\"] == exc[\"product\"] and\n",
    "                d[\"location\"] == exc[\"location\"] and\n",
    "                d[\"unit\"] == exc[\"unit\"]\n",
    "                ][0]\n",
    "\n",
    "            exc.update({\n",
    "                        'input': (exc_ds['database'], exc_ds['code'])}\n",
    "                        )"
   ]
  },
  {
   "cell_type": "code",
   "execution_count": 70,
   "metadata": {},
   "outputs": [
    {
     "name": "stderr",
     "output_type": "stream",
     "text": [
      "Writing activities to SQLite3 database:\n"
     ]
    },
    {
     "name": "stdout",
     "output_type": "stream",
     "text": [
      "29 datasets\n",
      "614 exchanges\n",
      "0 unlinked exchanges\n",
      "  \n"
     ]
    },
    {
     "name": "stderr",
     "output_type": "stream",
     "text": [
      "0% [#############################] 100% | ETA: 00:00:00\n",
      "Total time elapsed: 00:00:00\n"
     ]
    },
    {
     "name": "stdout",
     "output_type": "stream",
     "text": [
      "Title: Writing activities to SQLite3 database:\n",
      "  Started: 12/22/2023 12:51:01\n",
      "  Finished: 12/22/2023 12:51:01\n",
      "  Total time elapsed: 00:00:00\n",
      "  CPU %: 80.10\n",
      "  Memory %: 20.92\n",
      "Created database: EV battery metals, + wind power in all activities\n"
     ]
    }
   ],
   "source": [
    "if dbs_strategies[\"GLOBAL_ELEC\"] in bw.databases:\n",
    "    del bw.databases[dbs_strategies[\"GLOBAL_ELEC\"]]\n",
    "wurst.write_brightway2_database(metals_db_modif, dbs_strategies[\"GLOBAL_ELEC\"])"
   ]
  },
  {
   "cell_type": "markdown",
   "metadata": {},
   "source": [
    "### Calculte mitigation potential "
   ]
  },
  {
   "cell_type": "code",
   "execution_count": 87,
   "metadata": {},
   "outputs": [],
   "source": [
    "mitigation_potential = {\n",
    "        db: {\n",
    "            metal: 0 \n",
    "            for metal in INVENTORIES.keys()} \n",
    "            for db in list(dbs_strategies.keys())\n",
    "        }\n",
    "\n",
    "for db in dbs_strategies:\n",
    "    for metal in INVENTORIES:\n",
    "        metal_ds = [ds for ds in bw.Database(dbs_strategies[db])\n",
    "                    if ds['name'] == INVENTORIES[metal][0] \n",
    "                    and ds['reference product'] == INVENTORIES[metal][1]\n",
    "                    and ds['location'] == INVENTORIES[metal][2]][0]\n",
    "        impacts = supporting_functions.multi_lcia(metal_ds, IMPACT_METHODS)\n",
    "        mitigation_potential[db][metal] = impacts"
   ]
  },
  {
   "cell_type": "code",
   "execution_count": 88,
   "metadata": {},
   "outputs": [],
   "source": [
    "mitigation_potential = {outer_key: {\n",
    "    inner_key: sub_dict[\"Climate change\"] \n",
    "    for inner_key, sub_dict in inner_dict.items()} \n",
    "    for outer_key, inner_dict in mitigation_potential.items()\n",
    "}"
   ]
  },
  {
   "cell_type": "code",
   "execution_count": 89,
   "metadata": {},
   "outputs": [],
   "source": [
    "# Export mitigation potential results\n",
    "pd.DataFrame(mitigation_potential).to_csv(DATA_DIR / \"results\" / f\"fig4_actual_mitigaiton_potential_{datetime.datetime.today().strftime('%d-%m-%Y')}.csv\", index_label=\"Metal\")"
   ]
  },
  {
   "cell_type": "code",
   "execution_count": null,
   "metadata": {},
   "outputs": [],
   "source": []
  }
 ],
 "metadata": {
  "kernelspec": {
   "display_name": "iri_ei39",
   "language": "python",
   "name": "python3"
  },
  "language_info": {
   "codemirror_mode": {
    "name": "ipython",
    "version": 3
   },
   "file_extension": ".py",
   "mimetype": "text/x-python",
   "name": "python",
   "nbconvert_exporter": "python",
   "pygments_lexer": "ipython3",
   "version": "3.10.2"
  }
 },
 "nbformat": 4,
 "nbformat_minor": 2
}
