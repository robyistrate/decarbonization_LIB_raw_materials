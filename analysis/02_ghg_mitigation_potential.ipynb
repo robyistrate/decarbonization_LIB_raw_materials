{
 "cells": [
  {
   "cell_type": "markdown",
   "metadata": {},
   "source": [
    "# Analysis of mitigation potential of five strategies:\n",
    "\n",
    " S1. Decarbonization of on-site electricity consumption (switch to wind power)\n",
    "\n",
    " S2. Decarbonization of process heat (electrification of heat)\n",
    "\n",
    " S3. Decarbonization of electricity in chemical indsutry (switch to wind power)\n",
    "\n",
    " S4. Decarbonization of process heat in chemical industry (electrification of heat)"
   ]
  },
  {
   "cell_type": "markdown",
   "metadata": {},
   "source": [
    "### Basic set-up"
   ]
  },
  {
   "cell_type": "code",
   "execution_count": 1,
   "metadata": {},
   "outputs": [],
   "source": [
    "%run _imports.ipynb"
   ]
  },
  {
   "cell_type": "code",
   "execution_count": 2,
   "metadata": {},
   "outputs": [],
   "source": [
    "BW_PROJECT = 'lib_rm' # insert your project name here\n",
    "bw.projects.set_current(BW_PROJECT)\n",
    "\n",
    "EI_DB_NAME = 'ecoinvent-3.10-cutoff' # name of ecoinvent database in your project\n",
    "LIB_RM_DB_NAME = \"EV battery metals\"\n",
    "\n",
    "INVENTORIES = {\n",
    "    \"Lithium, brine\":        (\"lithium hydroxide production, Salar de Atacama\", \"lithium hydroxide, battery grade\", \"CL\"),\n",
    "    \"Lithium, spodumene\":    (\"lithium hydroxide production, from Australian spodumene\", \"lithium hydroxide, battery grade\", \"CN\"),\n",
    "    \"Cobalt\":                (\"cobalt sulfate production, from copper-cobalt ore, economic allocation\", \"cobalt sulfate\", \"CN\"),\n",
    "    \"Nickel\":                (\"nickel sulfate production, average excluding China, economic allocation\", \"nickel sulfate\", \"GLO\"),\n",
    "    \"Graphite, natural\":     (\"natural graphite production, battery grade, from Heilongjiang\", \"natural graphite, battery grade\", \"CN\")\n",
    "}\n",
    "\n",
    "IMPACT_METHODS = {\"Climate change\": ('IPCC 2021', 'climate change: including SLCFs', 'global warming potential (GWP100)')}\n",
    "\n",
    "technosphere = lambda x: x[\"type\"] == \"technosphere\"\n",
    "biosphere = lambda x: x[\"type\"] == \"biosphere\"\n",
    "\n",
    "breakdown_lists = supporting_functions.get_breakdown_lists()\n",
    "inventories_breakdown = pd.read_excel(INVENTORIES_PATH, sheet_name=\"Datasets for breakdown\", index_col=0, skiprows=1)"
   ]
  },
  {
   "cell_type": "code",
   "execution_count": 25,
   "metadata": {},
   "outputs": [],
   "source": [
    "dbs_strategies = {\n",
    "    \"BAU\": LIB_RM_DB_NAME,\n",
    "    \"ONSITE_ELEC\": LIB_RM_DB_NAME + \", wind power on-site\",\n",
    "    \"PROCESS_HEAT\": LIB_RM_DB_NAME + \", + electrification process heat\",\n",
    "    \"CHEMICALS_ELEC\": LIB_RM_DB_NAME + \", + wind power in chemical industry\",\n",
    "    \"CHEMICALS_HEAT\": LIB_RM_DB_NAME + \", + electrification heat in chemical industry\",\n",
    "    \"GLOBAL_ELEC\": LIB_RM_DB_NAME + \", + wind power in all activities\",\n",
    "}\n",
    "\n",
    "# Datasets used to model decarbonization strategies\n",
    "\n",
    "# On-site electricity source shifts to wind onshore\n",
    "wind_filter = {\n",
    "    'name': \"electricity production, wind, 1-3MW turbine, onshore\",\n",
    "    'product': \"electricity, high voltage\",\n",
    "    'unit': \"kilowatt hour\"\n",
    "    }\n",
    "\n",
    "# Process heat is electrified\n",
    "heat_low_temp_filter = {\n",
    "    'name': \"heat production, at heat pump 30kW, allocation exergy\",\n",
    "    'product': \"heat, central or small-scale, other than natural gas\",\n",
    "    'unit': \"megajoule\"\n",
    "    }\n",
    "\n",
    "heat_high_temp_filter = {\n",
    "    'name': \"heat production, electric furnace\",\n",
    "    'product': \"heat, district or industrial, other than natural gas\",\n",
    "    'unit': \"megajoule\"\n",
    "    }"
   ]
  },
  {
   "cell_type": "code",
   "execution_count": 4,
   "metadata": {},
   "outputs": [
    {
     "name": "stdout",
     "output_type": "stream",
     "text": [
      "Getting activity data\n"
     ]
    },
    {
     "name": "stderr",
     "output_type": "stream",
     "text": [
      "100%|██████████| 23523/23523 [00:00<00:00, 94255.15it/s]\n"
     ]
    },
    {
     "name": "stdout",
     "output_type": "stream",
     "text": [
      "Adding exchange data to activities\n"
     ]
    },
    {
     "name": "stderr",
     "output_type": "stream",
     "text": [
      "100%|██████████| 743409/743409 [00:59<00:00, 12526.99it/s]\n"
     ]
    },
    {
     "name": "stdout",
     "output_type": "stream",
     "text": [
      "Filling out exchange data\n"
     ]
    },
    {
     "name": "stderr",
     "output_type": "stream",
     "text": [
      "100%|██████████| 23523/23523 [00:03<00:00, 7144.22it/s] \n"
     ]
    },
    {
     "name": "stdout",
     "output_type": "stream",
     "text": [
      "Getting activity data\n"
     ]
    },
    {
     "name": "stderr",
     "output_type": "stream",
     "text": [
      "100%|██████████| 23/23 [00:00<00:00, 46290.30it/s]\n"
     ]
    },
    {
     "name": "stdout",
     "output_type": "stream",
     "text": [
      "Adding exchange data to activities\n"
     ]
    },
    {
     "name": "stderr",
     "output_type": "stream",
     "text": [
      "100%|██████████| 447/447 [00:00<00:00, 29384.12it/s]\n"
     ]
    },
    {
     "name": "stdout",
     "output_type": "stream",
     "text": [
      "Filling out exchange data\n"
     ]
    },
    {
     "name": "stderr",
     "output_type": "stream",
     "text": [
      "100%|██████████| 23/23 [00:00<00:00, 131.56it/s]\n"
     ]
    }
   ],
   "source": [
    "# Import ecoinvent database into wurst format (i.e., list of dictionary, each dict being a dataset)\n",
    "try:\n",
    "  len(ei_db)\n",
    "except NameError:\n",
    "  ei_db = wurst.extract_brightway2_databases(EI_DB_NAME)\n",
    "\n",
    "# Import LIB raw materials inventories into wurst format (i.e., list of dictionary, each dict being a dataset)\n",
    "try:\n",
    "  len(lib_rm_db)\n",
    "except NameError:\n",
    "  lib_rm_db = wurst.extract_brightway2_databases(LIB_RM_DB_NAME)\n",
    "\n",
    "biosphere_db = [ef.as_dict() for ef in bw.Database('ecoinvent-3.10-biosphere')]"
   ]
  },
  {
   "cell_type": "markdown",
   "metadata": {},
   "source": [
    "### 1. Decarbonization of on-site electricity consumption"
   ]
  },
  {
   "cell_type": "code",
   "execution_count": 5,
   "metadata": {},
   "outputs": [],
   "source": [
    "# Copy of databases for modification:\n",
    "lib_rm_db_s1 = copy.deepcopy(lib_rm_db)"
   ]
  },
  {
   "cell_type": "code",
   "execution_count": 6,
   "metadata": {},
   "outputs": [],
   "source": [
    "# Get the list of possible wind power datasets\n",
    "possible_wind_datasets = list(wurst.transformations.geo.get_possibles(wind_filter, ei_db)) \n",
    "\n",
    "for ds in lib_rm_db_s1:\n",
    "    if ds[\"name\"] in list(inventories_breakdown[\"name\"]):\n",
    "        \n",
    "        # Check if there is an exact wind dataset match for the location\n",
    "        wind_match_dataset = [a for a in possible_wind_datasets if a['location'] == ds[\"location\"]]\n",
    "\n",
    "        # If there is no specific dataset for the location, use RoW\n",
    "        if len(wind_match_dataset) == 0:\n",
    "            wind_match_dataset = [a for a in possible_wind_datasets if a['location'] == 'RoW']\n",
    "\n",
    "        # Replace electricity grid with wind power in the activities\n",
    "        for exc in filter(technosphere, ds[\"exchanges\"]):\n",
    "            if exc['product'] in ['electricity, low voltage', \"electricity, medium voltage\", \"electricity, high voltage\"]:\n",
    "                exc.update({\n",
    "                    'name': wind_match_dataset[0]['name'],\n",
    "                    'product': wind_match_dataset[0]['reference product'],\n",
    "                    'location': wind_match_dataset[0]['location'],\n",
    "                    'input': (wind_match_dataset[0]['database'], wind_match_dataset[0]['code'])})"
   ]
  },
  {
   "cell_type": "code",
   "execution_count": 8,
   "metadata": {},
   "outputs": [
    {
     "name": "stderr",
     "output_type": "stream",
     "text": [
      "Writing activities to SQLite3 database:\n"
     ]
    },
    {
     "name": "stdout",
     "output_type": "stream",
     "text": [
      "23 datasets\n",
      "447 exchanges\n",
      "0 unlinked exchanges\n",
      "  \n"
     ]
    },
    {
     "name": "stderr",
     "output_type": "stream",
     "text": [
      "0% [################       ] 100% | ETA: 00:00:00"
     ]
    },
    {
     "name": "stderr",
     "output_type": "stream",
     "text": [
      "0% [#######################] 100% | ETA: 00:00:00\n",
      "Total time elapsed: 00:00:00\n"
     ]
    },
    {
     "name": "stdout",
     "output_type": "stream",
     "text": [
      "Title: Writing activities to SQLite3 database:\n",
      "  Started: 04/01/2024 21:07:53\n",
      "  Finished: 04/01/2024 21:07:54\n",
      "  Total time elapsed: 00:00:00\n",
      "  CPU %: 99.70\n",
      "  Memory %: 36.72\n",
      "Created database: EV battery metals, wind power on-site\n"
     ]
    }
   ],
   "source": [
    "if dbs_strategies[\"ONSITE_ELEC\"] in bw.databases:\n",
    "    del bw.databases[dbs_strategies[\"ONSITE_ELEC\"]]\n",
    "wurst.write_brightway2_database(lib_rm_db_s1, dbs_strategies[\"ONSITE_ELEC\"])"
   ]
  },
  {
   "cell_type": "markdown",
   "metadata": {},
   "source": [
    "### 2. + Electrification of process heat"
   ]
  },
  {
   "cell_type": "code",
   "execution_count": 7,
   "metadata": {},
   "outputs": [],
   "source": [
    "# Copy of databases for modification:\n",
    "lib_rm_db_s2 = copy.deepcopy(lib_rm_db_s1)"
   ]
  },
  {
   "cell_type": "code",
   "execution_count": 8,
   "metadata": {},
   "outputs": [],
   "source": [
    "# Create regionalized heat pump and electric furnace datasets:\n",
    "list_countries = list(set([ds[\"location\"] for ds in lib_rm_db_s2 if ds[\"location\"] not in [\"GLO\", \"RoW\"]])) + [\"RoW\"]\n",
    "\n",
    "# Get heat pump and electric furnace dataset\n",
    "heat_pump_ds = supporting_functions.get_dataset_for_location(heat_low_temp_filter, \"RoW\", ei_db)\n",
    "elec_furnace_ds = supporting_functions.get_dataset_for_location(heat_high_temp_filter, \"GLO\", lib_rm_db)\n",
    "\n",
    "for c in list_countries:\n",
    "    # Get wind power\n",
    "    wind_ds_loc = supporting_functions.get_dataset_for_location(wind_filter, c, ei_db)\n",
    "\n",
    "    # Create heat pump and electric furnace datasets for location\n",
    "    heat_pump_loc = supporting_functions.replicate_activity_to_location(heat_pump_ds, c, ei_db, dbs_strategies[\"PROCESS_HEAT\"])\n",
    "    elec_furnace_loc = supporting_functions.replicate_activity_to_location(elec_furnace_ds, c, ei_db, dbs_strategies[\"PROCESS_HEAT\"])\n",
    "\n",
    "    #... and substitute electricity source by wind\n",
    "    for heat_ds in [heat_pump_loc, elec_furnace_loc]:\n",
    "        for exc in filter(technosphere, heat_ds[\"exchanges\"]):\n",
    "            if exc['product'] in ['electricity, low voltage', \"electricity, medium voltage\", \"electricity, high voltage\"]:\n",
    "                exc.update({\n",
    "                        'name': wind_ds_loc['name'],\n",
    "                        'product': wind_ds_loc['reference product'],\n",
    "                        'location': wind_ds_loc['location'],\n",
    "                        'input': (wind_ds_loc['database'], wind_ds_loc['code'])})\n",
    "    \n",
    "        lib_rm_db_s2.append(heat_ds)"
   ]
  },
  {
   "cell_type": "code",
   "execution_count": 9,
   "metadata": {},
   "outputs": [],
   "source": [
    "# Substitute heat sources in raw material datasets:\n",
    "\n",
    "low_temperature_ds = [\n",
    "    \"lithium brine production, from evaporation pond, Salar de Atacama\",\n",
    "    \"lithium brine purification, Salar de Atacama\",\n",
    "    \"lithium carbonate production, Salar de Atacama\",\n",
    "    \"lithium hydroxide production, Salar de Atacama\"\n",
    "]\n",
    "\n",
    "for ds in lib_rm_db_s2:\n",
    "    if ds[\"name\"] in list(inventories_breakdown[\"name\"]):\n",
    "\n",
    "        # Low-temperature heat is supplied by heat pumps\n",
    "        if ds[\"name\"] in low_temperature_ds:\n",
    "            electrified_heat_ds = supporting_functions.get_dataset_for_location(heat_low_temp_filter, ds[\"location\"], lib_rm_db_s2)\n",
    "        else:\n",
    "            # Nickel sulfate is a global activity\n",
    "            if ds[\"location\"] == \"GLO\":\n",
    "                electrified_heat_ds = supporting_functions.get_dataset_for_location(heat_high_temp_filter, \"RoW\", lib_rm_db_s2)\n",
    "            else:\n",
    "                electrified_heat_ds = supporting_functions.get_dataset_for_location(heat_high_temp_filter, ds[\"location\"], lib_rm_db_s2)\n",
    "\n",
    "        for exc in filter(technosphere, ds[\"exchanges\"]):\n",
    "            if exc['product'] in breakdown_lists[\"heating products\"]:\n",
    "                exc.update({\n",
    "                    'name': electrified_heat_ds['name'],\n",
    "                    'product': electrified_heat_ds['reference product'],\n",
    "                    'location': electrified_heat_ds['location'],\n",
    "                    \"database\": electrified_heat_ds['database'],\n",
    "                    'input': (electrified_heat_ds['database'], electrified_heat_ds['code'])})"
   ]
  },
  {
   "cell_type": "code",
   "execution_count": 12,
   "metadata": {},
   "outputs": [
    {
     "name": "stderr",
     "output_type": "stream",
     "text": [
      "Writing activities to SQLite3 database:\n"
     ]
    },
    {
     "name": "stdout",
     "output_type": "stream",
     "text": [
      "33 datasets\n",
      "477 exchanges\n",
      "0 unlinked exchanges\n",
      "  \n"
     ]
    },
    {
     "name": "stderr",
     "output_type": "stream",
     "text": [
      "0% [##############################] 100% | ETA: 00:00:00\n",
      "Total time elapsed: 00:00:00\n"
     ]
    },
    {
     "name": "stdout",
     "output_type": "stream",
     "text": [
      "Title: Writing activities to SQLite3 database:\n",
      "  Started: 04/02/2024 11:32:31\n",
      "  Finished: 04/02/2024 11:32:31\n",
      "  Total time elapsed: 00:00:00\n",
      "  CPU %: 60.10\n",
      "  Memory %: 36.28\n",
      "Created database: EV battery metals, + electrification process heat\n"
     ]
    }
   ],
   "source": [
    "if dbs_strategies[\"PROCESS_HEAT\"] in bw.databases:\n",
    "    del bw.databases[dbs_strategies[\"PROCESS_HEAT\"]]\n",
    "wurst.write_brightway2_database(lib_rm_db_s2, dbs_strategies[\"PROCESS_HEAT\"])"
   ]
  },
  {
   "cell_type": "markdown",
   "metadata": {},
   "source": [
    "### 3.  + Decarbonization of electricity in reagents production"
   ]
  },
  {
   "cell_type": "code",
   "execution_count": 10,
   "metadata": {},
   "outputs": [],
   "source": [
    "# Copy of databases for modification:\n",
    "lib_rm_db_s3 = copy.deepcopy(lib_rm_db_s2)\n",
    "ei_db_s3 = copy.deepcopy(ei_db)\n",
    "\n",
    "EI_CHEMICALS_WIND = EI_DB_NAME + \", reagents production powered by wind\""
   ]
  },
  {
   "cell_type": "code",
   "execution_count": 11,
   "metadata": {},
   "outputs": [],
   "source": [
    "# Since some of the chemicals used in LIB raw materials rely on\n",
    "# other chemicals produced upstream, we need to ensure that\n",
    "# all upstreams processes also switch to wind power. Therefore,\n",
    "# we change all the datasets falling under these categories:\n",
    "\n",
    "chemicals_ISIC_categories = [\n",
    "    '1920:Manufacture of refined petroleum products',\n",
    "    '1040:Manufacture of vegetable and animal oils and fats',\n",
    "    '2394:Manufacture of cement, lime and plaster',\n",
    "    '0891:Mining of chemical and fertilizer minerals',\n",
    "    '2011:Manufacture of basic chemicals',\n",
    "    '0810:Quarrying of stone, sand and clay',\n",
    "    '2012:Manufacture of fertilizers and nitrogen compounds',\n",
    "    '2030:Manufacture of man-made fibres',\n",
    "    '2013:Manufacture of plastics and synthetic rubber in primary forms',\n",
    "    '2100:Manufacture of pharmaceuticals, medicinal chemical and botanical products',\n",
    "    '2029:Manufacture of other chemical products n.e.c.',\n",
    "    '2220:Manufacture of plastics products',\n",
    "    '201:Manufacture of basic chemicals, fertilizers and nitrogen compounds, plastics',\n",
    "    '20:Manufacture of chemicals and chemical products',\n",
    "    '2023:Manufacture of soap and detergents, cleaning and polishing preparations, pe'\n",
    "]"
   ]
  },
  {
   "cell_type": "code",
   "execution_count": 12,
   "metadata": {},
   "outputs": [
    {
     "name": "stderr",
     "output_type": "stream",
     "text": [
      "BR-South-eastern/Mid-western grid not found in regex\n",
      "BR-South-eastern/Mid-western grid not found in regex\n"
     ]
    }
   ],
   "source": [
    "# Create an ecoinvent database where reagents production is powered by wind\n",
    "for ds in ei_db_s3:\n",
    "    product_category = [i[1] for i in ds[\"classifications\"] if i[0] == 'ISIC rev.4 ecoinvent']\n",
    "    \n",
    "    if len(product_category) > 0:\n",
    "        if product_category[0] in chemicals_ISIC_categories:\n",
    "\n",
    "            for exc in filter(technosphere, ds[\"exchanges\"]):\n",
    "                if exc['product'] in ['electricity, low voltage', \"electricity, medium voltage\", \"electricity, high voltage\"]:\n",
    "\n",
    "                    # Get wind power\n",
    "                    try:\n",
    "                        wind_elec_loc = supporting_functions.get_dataset_for_location(wind_filter, exc[\"location\"], ei_db_s3)\n",
    "                        if wind_elec_loc[\"location\"] != exc[\"location\"]:\n",
    "                            wind_elec_loc = supporting_functions.get_dataset_for_location(wind_filter, \"RoW\", ei_db_s3)\n",
    "                    except KeyError:\n",
    "                        wind_elec_loc = supporting_functions.get_dataset_for_location(wind_filter, \"RoW\", ei_db_s3)\n",
    "                    \n",
    "                    exc.update({\n",
    "                            'name': wind_elec_loc['name'],\n",
    "                            'product': wind_elec_loc['reference product'],\n",
    "                            'location': wind_elec_loc['location'],\n",
    "                            'input': (wind_elec_loc['database'], wind_elec_loc['code'])}\n",
    "                        )"
   ]
  },
  {
   "cell_type": "code",
   "execution_count": 13,
   "metadata": {},
   "outputs": [
    {
     "name": "stdout",
     "output_type": "stream",
     "text": [
      "Vacuuming database \n",
      "23523 datasets\n",
      "743409 exchanges\n",
      "0 unlinked exchanges\n",
      "  \n"
     ]
    },
    {
     "name": "stderr",
     "output_type": "stream",
     "text": [
      "Writing activities to SQLite3 database:\n",
      "0% [##############################] 100% | ETA: 00:00:00\n",
      "Total time elapsed: 00:00:55\n"
     ]
    },
    {
     "name": "stdout",
     "output_type": "stream",
     "text": [
      "Title: Writing activities to SQLite3 database:\n",
      "  Started: 04/02/2024 19:05:24\n",
      "  Finished: 04/02/2024 19:06:20\n",
      "  Total time elapsed: 00:00:55\n",
      "  CPU %: 91.50\n",
      "  Memory %: 28.00\n",
      "Created database: ecoinvent-3.10-cutoff, reagents production powered by wind\n"
     ]
    }
   ],
   "source": [
    "# Write the modified ecoinvent database to memory\n",
    "if EI_CHEMICALS_WIND in bw.databases:\n",
    "    del bw.databases[EI_CHEMICALS_WIND]\n",
    "wurst.write_brightway2_database(ei_db_s3, EI_CHEMICALS_WIND)"
   ]
  },
  {
   "cell_type": "code",
   "execution_count": 14,
   "metadata": {},
   "outputs": [],
   "source": [
    "# Link raw materials datasets to the modified ecoinvent version\n",
    "for ds in lib_rm_db_s3:\n",
    "    for exc in filter(technosphere, ds[\"exchanges\"]):\n",
    "        if EI_DB_NAME in exc[\"database\"]:\n",
    "            exc_ds = [\n",
    "                d for d in bw.Database(EI_CHEMICALS_WIND) if \n",
    "                d[\"name\"] == exc[\"name\"] and\n",
    "                d[\"reference product\"] == exc[\"product\"] and\n",
    "                d[\"location\"] == exc[\"location\"] and\n",
    "                d[\"unit\"] == exc[\"unit\"]\n",
    "                ][0]\n",
    "                \n",
    "            exc.update(\n",
    "                {\n",
    "                    \"input\": (exc_ds[\"database\"], exc_ds[\"code\"])\n",
    "                }\n",
    "            )"
   ]
  },
  {
   "cell_type": "code",
   "execution_count": 15,
   "metadata": {},
   "outputs": [
    {
     "name": "stderr",
     "output_type": "stream",
     "text": [
      "Writing activities to SQLite3 database:\n"
     ]
    },
    {
     "name": "stdout",
     "output_type": "stream",
     "text": [
      "33 datasets\n",
      "477 exchanges\n",
      "0 unlinked exchanges\n",
      "  \n"
     ]
    },
    {
     "name": "stderr",
     "output_type": "stream",
     "text": [
      "0% [##############################] 100% | ETA: 00:00:00\n",
      "Total time elapsed: 00:00:00\n"
     ]
    },
    {
     "name": "stdout",
     "output_type": "stream",
     "text": [
      "Title: Writing activities to SQLite3 database:\n",
      "  Started: 04/02/2024 19:14:17\n",
      "  Finished: 04/02/2024 19:14:17\n",
      "  Total time elapsed: 00:00:00\n",
      "  CPU %: 40.10\n",
      "  Memory %: 29.03\n",
      "Created database: EV battery metals, + wind power in chemical industry\n"
     ]
    }
   ],
   "source": [
    "if dbs_strategies[\"CHEMICALS_ELEC\"] in bw.databases:\n",
    "    del bw.databases[dbs_strategies[\"CHEMICALS_ELEC\"]]\n",
    "wurst.write_brightway2_database(lib_rm_db_s3, dbs_strategies[\"CHEMICALS_ELEC\"])"
   ]
  },
  {
   "cell_type": "markdown",
   "metadata": {},
   "source": [
    "### 4. + Electrification of heat in chemical industry"
   ]
  },
  {
   "cell_type": "code",
   "execution_count": 16,
   "metadata": {},
   "outputs": [],
   "source": [
    "# Copy of databases for modification:\n",
    "lib_rm_db_s4 = copy.deepcopy(lib_rm_db_s3)\n",
    "ei_db_s4 = copy.deepcopy(ei_db_s3)\n",
    "\n",
    "EI_CHEMICALS_WIND_AND_HEAT = EI_DB_NAME + \", reagents production powered by wind + electrified heat\""
   ]
  },
  {
   "cell_type": "code",
   "execution_count": 17,
   "metadata": {},
   "outputs": [],
   "source": [
    "# Copy electric furnace dataset to the modified ecoinvent database\n",
    "elec_furnace_ds = supporting_functions.get_dataset_for_location(heat_high_temp_filter, \"GLO\", lib_rm_db)\n",
    "elec_furnace_ei = supporting_functions.replicate_activity_to_location(elec_furnace_ds, \"GLO\", ei_db, EI_CHEMICALS_WIND_AND_HEAT)\n",
    "\n",
    "# Cange electricity to wind\n",
    "wind_ds_loc = supporting_functions.get_dataset_for_location(wind_filter, \"RoW\", ei_db_s4)\n",
    "\n",
    "# Change electricity source to wind\n",
    "for exc in filter(technosphere, elec_furnace_ei[\"exchanges\"]):\n",
    "    if exc['product'] in ['electricity, low voltage', \"electricity, medium voltage\", \"electricity, high voltage\"]:\n",
    "        exc.update({\n",
    "            'name': wind_ds_loc['name'],\n",
    "            'product': wind_ds_loc['reference product'],\n",
    "            'location': wind_ds_loc['location'],\n",
    "            'input': (wind_ds_loc['database'], wind_ds_loc['code'])}\n",
    "            )\n",
    "\n",
    "# Add electric furnace dataset to ecoinvent\n",
    "ei_db_s4.append(elec_furnace_ei)"
   ]
  },
  {
   "cell_type": "code",
   "execution_count": 18,
   "metadata": {},
   "outputs": [],
   "source": [
    "# Create an ecoinvent database where reagents production is powered by wind\n",
    "for ds in ei_db_s4:\n",
    "    product_category = [i[1] for i in ds[\"classifications\"] if i[0] == 'ISIC rev.4 ecoinvent']\n",
    "    \n",
    "    if len(product_category) > 0:\n",
    "        if product_category[0] in chemicals_ISIC_categories:\n",
    "\n",
    "            for exc in filter(technosphere, ds[\"exchanges\"]):\n",
    "                if exc['product'] in breakdown_lists[\"heating products\"]:\n",
    "                    exc.update({\n",
    "                        'name': elec_furnace_ei['name'],\n",
    "                        'product': elec_furnace_ei['reference product'],\n",
    "                        'location': elec_furnace_ei['location'],\n",
    "                        \"database\": elec_furnace_ei['database'],\n",
    "                        'input': (elec_furnace_ei['database'], elec_furnace_ei['code'])}\n",
    "                    )"
   ]
  },
  {
   "cell_type": "code",
   "execution_count": 19,
   "metadata": {},
   "outputs": [
    {
     "name": "stdout",
     "output_type": "stream",
     "text": [
      "Vacuuming database \n",
      "23524 datasets\n",
      "743411 exchanges\n",
      "0 unlinked exchanges\n",
      "  \n"
     ]
    },
    {
     "name": "stderr",
     "output_type": "stream",
     "text": [
      "Writing activities to SQLite3 database:\n",
      "0% [##############################] 100% | ETA: 00:00:00\n",
      "Total time elapsed: 00:00:42\n"
     ]
    },
    {
     "name": "stdout",
     "output_type": "stream",
     "text": [
      "Title: Writing activities to SQLite3 database:\n",
      "  Started: 04/02/2024 19:16:14\n",
      "  Finished: 04/02/2024 19:16:56\n",
      "  Total time elapsed: 00:00:42\n",
      "  CPU %: 99.70\n",
      "  Memory %: 30.92\n",
      "Created database: ecoinvent-3.10-cutoff, reagents production powered by wind + electrified heat\n"
     ]
    }
   ],
   "source": [
    "# Write the modified ecoinvent database to memory\n",
    "if EI_CHEMICALS_WIND_AND_HEAT in bw.databases:\n",
    "    del bw.databases[EI_CHEMICALS_WIND_AND_HEAT]\n",
    "wurst.write_brightway2_database(ei_db_s4, EI_CHEMICALS_WIND_AND_HEAT)"
   ]
  },
  {
   "cell_type": "code",
   "execution_count": 20,
   "metadata": {},
   "outputs": [],
   "source": [
    "# Link raw materials datasets to the modified ecoinvent version\n",
    "for ds in lib_rm_db_s4:\n",
    "    for exc in filter(technosphere, ds[\"exchanges\"]):\n",
    "        if EI_DB_NAME in exc[\"database\"]:\n",
    "            exc_ds = [\n",
    "                d for d in bw.Database(EI_CHEMICALS_WIND_AND_HEAT) if \n",
    "                d[\"name\"] == exc[\"name\"] and\n",
    "                d[\"reference product\"] == exc[\"product\"] and\n",
    "                d[\"location\"] == exc[\"location\"] and\n",
    "                d[\"unit\"] == exc[\"unit\"]\n",
    "                ][0]\n",
    "                \n",
    "            exc.update(\n",
    "                {\n",
    "                    \"input\": (exc_ds[\"database\"], exc_ds[\"code\"])\n",
    "                }\n",
    "            )"
   ]
  },
  {
   "cell_type": "code",
   "execution_count": 21,
   "metadata": {},
   "outputs": [
    {
     "name": "stderr",
     "output_type": "stream",
     "text": [
      "Writing activities to SQLite3 database:\n"
     ]
    },
    {
     "name": "stdout",
     "output_type": "stream",
     "text": [
      "33 datasets\n",
      "477 exchanges\n",
      "0 unlinked exchanges\n",
      "  \n"
     ]
    },
    {
     "name": "stderr",
     "output_type": "stream",
     "text": [
      "0% [##############################] 100% | ETA: 00:00:00\n",
      "Total time elapsed: 00:00:00\n"
     ]
    },
    {
     "name": "stdout",
     "output_type": "stream",
     "text": [
      "Title: Writing activities to SQLite3 database:\n",
      "  Started: 04/02/2024 19:25:36\n",
      "  Finished: 04/02/2024 19:25:36\n",
      "  Total time elapsed: 00:00:00\n",
      "  CPU %: 45.70\n",
      "  Memory %: 31.58\n",
      "Created database: EV battery metals, + electrification heat in chemical industry\n"
     ]
    }
   ],
   "source": [
    "if dbs_strategies[\"CHEMICALS_HEAT\"] in bw.databases:\n",
    "    del bw.databases[dbs_strategies[\"CHEMICALS_HEAT\"]]\n",
    "wurst.write_brightway2_database(lib_rm_db_s4, dbs_strategies[\"CHEMICALS_HEAT\"])"
   ]
  },
  {
   "cell_type": "markdown",
   "metadata": {},
   "source": [
    "#### 5. + Wind power in the global economy"
   ]
  },
  {
   "cell_type": "code",
   "execution_count": 26,
   "metadata": {},
   "outputs": [],
   "source": [
    "# Copy of databases for modification:\n",
    "lib_rm_db_s5 = copy.deepcopy(lib_rm_db_s4)\n",
    "ei_db_s5 = copy.deepcopy(ei_db_s4)\n",
    "\n",
    "EI_WIND_GLOBAL = EI_DB_NAME + \", reagents production powered by wind + electrified heat + global wind\""
   ]
  },
  {
   "cell_type": "code",
   "execution_count": 27,
   "metadata": {},
   "outputs": [
    {
     "name": "stderr",
     "output_type": "stream",
     "text": [
      "CN-ECGC not found in regex\n",
      "BR-South-eastern/Mid-western grid not found in regex\n",
      "BR-South-eastern/Mid-western grid not found in regex\n",
      "BR-South-eastern/Mid-western grid not found in regex\n",
      "CN-NCGC not found in regex\n",
      "CN-CCG not found in regex\n",
      "CN-NWG not found in regex\n",
      "CN-NECG not found in regex\n",
      "CN-NWG not found in regex\n",
      "CN-NWG not found in regex\n",
      "CN-NWG not found in regex\n",
      "CN-CCG not found in regex\n",
      "CN-NWG not found in regex\n",
      "CN-SWG not found in regex\n",
      "CN-NCGC not found in regex\n",
      "CN-NECG not found in regex\n",
      "BR-South-eastern/Mid-western grid not found in regex\n",
      "CN-NWG not found in regex\n",
      "CN-NWG not found in regex\n",
      "CN-ECGC not found in regex\n",
      "CN-NWG not found in regex\n",
      "CN-NECG not found in regex\n",
      "CN-CCG not found in regex\n",
      "CN-NCGC not found in regex\n",
      "CN-SWG not found in regex\n",
      "BR-South-eastern/Mid-western grid not found in regex\n",
      "CN-NECG not found in regex\n",
      "CN-ECGC not found in regex\n",
      "CN-NCGC not found in regex\n",
      "CN-CCG not found in regex\n",
      "CN-NWG not found in regex\n",
      "CN-SWG not found in regex\n",
      "CN-NCGC not found in regex\n",
      "CN-NECG not found in regex\n",
      "BR-South-eastern/Mid-western grid not found in regex\n",
      "CN-ECGC not found in regex\n",
      "CN-NECG not found in regex\n",
      "CN-NCGC not found in regex\n",
      "CN-SWG not found in regex\n",
      "CN-SWG not found in regex\n",
      "CN-NCGC not found in regex\n",
      "CN-CCG not found in regex\n",
      "CN-NWG not found in regex\n",
      "CN-SWG not found in regex\n",
      "CN-NCGC not found in regex\n",
      "CN-NECG not found in regex\n",
      "CN-NWG not found in regex\n",
      "CN-SWG not found in regex\n",
      "CN-NCGC not found in regex\n",
      "CN-SWG not found in regex\n",
      "CN-NECG not found in regex\n",
      "CN-NECG not found in regex\n",
      "CN-ECGC not found in regex\n",
      "CN-ECGC not found in regex\n",
      "CN-CCG not found in regex\n",
      "CN-CCG not found in regex\n",
      "BR-South-eastern/Mid-western grid not found in regex\n",
      "CN-CCG not found in regex\n",
      "CN-NWG not found in regex\n",
      "CN-SWG not found in regex\n",
      "CN-NCGC not found in regex\n",
      "CN-NECG not found in regex\n",
      "CN-SWG not found in regex\n",
      "CN-CCG not found in regex\n",
      "CN-NWG not found in regex\n",
      "CN-SWG not found in regex\n",
      "CN-NCGC not found in regex\n",
      "CN-NECG not found in regex\n",
      "CN-NCGC not found in regex\n",
      "CN-CCG not found in regex\n",
      "CN-CCG not found in regex\n",
      "CN-CCG not found in regex\n",
      "CN-NWG not found in regex\n",
      "CN-SWG not found in regex\n",
      "CN-NCGC not found in regex\n",
      "CN-NECG not found in regex\n",
      "CN-ECGC not found in regex\n",
      "CN-CCG not found in regex\n",
      "CN-NCGC not found in regex\n",
      "CN-CCG not found in regex\n",
      "CN-NCGC not found in regex\n",
      "CN-CCG not found in regex\n",
      "CN-CCG not found in regex\n",
      "CN-CCG not found in regex\n",
      "CN-NWG not found in regex\n",
      "CN-SWG not found in regex\n",
      "CN-NCGC not found in regex\n",
      "CN-NECG not found in regex\n",
      "CN-ECGC not found in regex\n",
      "CN-CCG not found in regex\n",
      "CN-CCG not found in regex\n",
      "CN-ECGC not found in regex\n",
      "BR-South-eastern/Mid-western grid not found in regex\n",
      "CN-ECGC not found in regex\n",
      "CN-NCGC not found in regex\n",
      "CN-NCGC not found in regex\n",
      "CN-NCGC not found in regex\n",
      "CN-SWG not found in regex\n",
      "CN-SWG not found in regex\n",
      "CN-NWG not found in regex\n",
      "BR-South-eastern/Mid-western grid not found in regex\n",
      "CN-NECG not found in regex\n",
      "CN-CCG not found in regex\n",
      "CN-NWG not found in regex\n",
      "CN-SWG not found in regex\n",
      "CN-NCGC not found in regex\n",
      "CN-NECG not found in regex\n",
      "CN-CCG not found in regex\n",
      "CN-SWG not found in regex\n",
      "CN-CCG not found in regex\n",
      "CN-NWG not found in regex\n",
      "CN-SWG not found in regex\n",
      "CN-NCGC not found in regex\n",
      "CN-NECG not found in regex\n",
      "BR-South-eastern/Mid-western grid not found in regex\n",
      "BR-South-eastern/Mid-western grid not found in regex\n",
      "BR-South-eastern/Mid-western grid not found in regex\n",
      "BR-South-eastern/Mid-western grid not found in regex\n",
      "BR-South-eastern/Mid-western grid not found in regex\n",
      "BR-South-eastern/Mid-western grid not found in regex\n",
      "BR-South-eastern/Mid-western grid not found in regex\n",
      "BR-South-eastern/Mid-western grid not found in regex\n",
      "BR-South-eastern/Mid-western grid not found in regex\n",
      "BR-South-eastern/Mid-western grid not found in regex\n",
      "BR-South-eastern/Mid-western grid not found in regex\n",
      "BR-South-eastern/Mid-western grid not found in regex\n",
      "CN-CCG not found in regex\n",
      "CN-ECGC not found in regex\n",
      "CN-CCG not found in regex\n",
      "BR-South-eastern/Mid-western grid not found in regex\n",
      "BR-South-eastern/Mid-western grid not found in regex\n",
      "BR-South-eastern/Mid-western grid not found in regex\n",
      "BR-South-eastern/Mid-western grid not found in regex\n",
      "BR-South-eastern/Mid-western grid not found in regex\n",
      "BR-South-eastern/Mid-western grid not found in regex\n",
      "BR-South-eastern/Mid-western grid not found in regex\n",
      "BR-South-eastern/Mid-western grid not found in regex\n",
      "CN-NECG not found in regex\n",
      "BR-South-eastern/Mid-western grid not found in regex\n",
      "CN-CCG not found in regex\n",
      "BR-South-eastern/Mid-western grid not found in regex\n",
      "CN-ECGC not found in regex\n",
      "CN-ECGC not found in regex\n",
      "CN-ECGC not found in regex\n",
      "CN-NCGC not found in regex\n",
      "CN-NECG not found in regex\n",
      "CN-ECGC not found in regex\n",
      "CN-CCG not found in regex\n",
      "CN-SWG not found in regex\n",
      "CN-NECG not found in regex\n",
      "CN-NCGC not found in regex\n",
      "CN-NWG not found in regex\n",
      "CN-ECGC not found in regex\n",
      "CN-ECGC not found in regex\n",
      "CN-ECGC not found in regex\n",
      "CN-ECGC not found in regex\n",
      "CN-ECGC not found in regex\n",
      "CN-NWG not found in regex\n",
      "CN-ECGC not found in regex\n",
      "CN-ECGC not found in regex\n",
      "CN-ECGC not found in regex\n",
      "CN-NCGC not found in regex\n",
      "CN-ECGC not found in regex\n",
      "CN-CCG not found in regex\n",
      "CN-NECG not found in regex\n",
      "CN-CCG not found in regex\n",
      "CN-NWG not found in regex\n",
      "CN-SWG not found in regex\n",
      "CN-NCGC not found in regex\n",
      "CN-NECG not found in regex\n",
      "CN-NCGC not found in regex\n",
      "CN-CCG not found in regex\n",
      "CN-NWG not found in regex\n",
      "CN-SWG not found in regex\n",
      "CN-NCGC not found in regex\n",
      "CN-NECG not found in regex\n",
      "CN-ECGC not found in regex\n",
      "CN-CCG not found in regex\n",
      "CN-CCG not found in regex\n",
      "CN-NWG not found in regex\n",
      "CN-SWG not found in regex\n",
      "CN-NCGC not found in regex\n",
      "CN-NECG not found in regex\n",
      "CN-NCGC not found in regex\n",
      "CN-ECGC not found in regex\n",
      "CN-NCGC not found in regex\n",
      "CN-NCGC not found in regex\n",
      "CN-NCGC not found in regex\n",
      "CN-NWG not found in regex\n",
      "CN-CCG not found in regex\n",
      "CN-ECGC not found in regex\n",
      "CN-NCGC not found in regex\n",
      "CN-CCG not found in regex\n",
      "CN-NCGC not found in regex\n",
      "BR-South-eastern/Mid-western grid not found in regex\n",
      "CN-NWG not found in regex\n",
      "BR-South-eastern/Mid-western grid not found in regex\n",
      "BR-South-eastern/Mid-western grid not found in regex\n",
      "CN-NCGC not found in regex\n",
      "CN-NCGC not found in regex\n",
      "CN-NWG not found in regex\n",
      "CN-NWG not found in regex\n",
      "BR-South-eastern/Mid-western grid not found in regex\n",
      "CN-SWG not found in regex\n",
      "CN-NECG not found in regex\n",
      "CN-ECGC not found in regex\n",
      "CN-ECGC not found in regex\n",
      "CN-CCG not found in regex\n",
      "CN-CCG not found in regex\n",
      "BR-South-eastern/Mid-western grid not found in regex\n",
      "CN-NECG not found in regex\n",
      "CN-NECG not found in regex\n",
      "CN-ECGC not found in regex\n",
      "CN-CCG not found in regex\n",
      "CN-NWG not found in regex\n",
      "CN-SWG not found in regex\n",
      "CN-NCGC not found in regex\n",
      "CN-NECG not found in regex\n",
      "CN-CCG not found in regex\n",
      "CN-NWG not found in regex\n",
      "CN-SWG not found in regex\n",
      "CN-NCGC not found in regex\n",
      "CN-NECG not found in regex\n",
      "CN-CCG not found in regex\n",
      "CN-NWG not found in regex\n",
      "CN-SWG not found in regex\n",
      "CN-NCGC not found in regex\n",
      "CN-NECG not found in regex\n",
      "CN-NCGC not found in regex\n",
      "CN-CCG not found in regex\n",
      "CN-CCG not found in regex\n",
      "CN-CCG not found in regex\n",
      "CN-CCG not found in regex\n",
      "CN-ECGC not found in regex\n",
      "CN-NCGC not found in regex\n",
      "CN-NCGC not found in regex\n",
      "CN-CCG not found in regex\n",
      "CN-NCGC not found in regex\n",
      "CN-CCG not found in regex\n",
      "CN-NCGC not found in regex\n",
      "CN-ECGC not found in regex\n",
      "CN-ECGC not found in regex\n",
      "CN-NCGC not found in regex\n",
      "CN-NCGC not found in regex\n",
      "BR-South-eastern/Mid-western grid not found in regex\n",
      "CN-CCG not found in regex\n",
      "CN-NWG not found in regex\n",
      "CN-SWG not found in regex\n",
      "CN-NCGC not found in regex\n",
      "CN-NECG not found in regex\n",
      "CN-ECGC not found in regex\n",
      "CN-NCGC not found in regex\n",
      "CN-NCGC not found in regex\n",
      "CN-SWG not found in regex\n",
      "CN-SWG not found in regex\n",
      "CN-SWG not found in regex\n",
      "BR-South-eastern/Mid-western grid not found in regex\n",
      "CN-ECGC not found in regex\n",
      "CN-CCG not found in regex\n",
      "CN-CCG not found in regex\n",
      "CN-CCG not found in regex\n",
      "CN-CCG not found in regex\n"
     ]
    }
   ],
   "source": [
    "# Create an ecoinvent database where all activities are powered by wind\n",
    "for ds in ei_db_s5:\n",
    "    for exc in filter(technosphere, ds[\"exchanges\"]):\n",
    "        if exc['product'] in ['electricity, low voltage', \"electricity, medium voltage\", \"electricity, high voltage\"]:\n",
    "\n",
    "            # Get wind power\n",
    "            try:\n",
    "                wind_elec_loc = supporting_functions.get_dataset_for_location(wind_filter, exc[\"location\"], ei_db_s5)\n",
    "                if wind_elec_loc[\"location\"] != exc[\"location\"]:\n",
    "                    wind_elec_loc = supporting_functions.get_dataset_for_location(wind_filter, \"RoW\", ei_db_s5)\n",
    "            except KeyError:\n",
    "                wind_elec_loc = supporting_functions.get_dataset_for_location(wind_filter, \"RoW\", ei_db_s5)\n",
    "                    \n",
    "            exc.update({\n",
    "                'name': wind_elec_loc['name'],\n",
    "                'product': wind_elec_loc['reference product'],\n",
    "                'location': wind_elec_loc['location'],\n",
    "                'input': (wind_elec_loc['database'], wind_elec_loc['code'])}\n",
    "            )"
   ]
  },
  {
   "cell_type": "code",
   "execution_count": 28,
   "metadata": {},
   "outputs": [
    {
     "name": "stdout",
     "output_type": "stream",
     "text": [
      "23524 datasets\n",
      "743411 exchanges\n",
      "0 unlinked exchanges\n",
      "  \n"
     ]
    },
    {
     "name": "stderr",
     "output_type": "stream",
     "text": [
      "Writing activities to SQLite3 database:\n",
      "0% [##############################] 100% | ETA: 00:00:00\n",
      "Total time elapsed: 00:01:41\n"
     ]
    },
    {
     "name": "stdout",
     "output_type": "stream",
     "text": [
      "Title: Writing activities to SQLite3 database:\n",
      "  Started: 04/04/2024 13:14:38\n",
      "  Finished: 04/04/2024 13:16:20\n",
      "  Total time elapsed: 00:01:41\n",
      "  CPU %: 80.20\n",
      "  Memory %: 20.82\n",
      "Created database: ecoinvent-3.10-cutoff, reagents production powered by wind + electrified heat + global wind\n"
     ]
    }
   ],
   "source": [
    "# Write the modified ecoinvent database to memory\n",
    "if EI_WIND_GLOBAL in bw.databases:\n",
    "    del bw.databases[EI_WIND_GLOBAL]\n",
    "wurst.write_brightway2_database(ei_db_s5, EI_WIND_GLOBAL)"
   ]
  },
  {
   "cell_type": "code",
   "execution_count": 29,
   "metadata": {},
   "outputs": [],
   "source": [
    "# Link raw materials datasets to the modified ecoinvent version\n",
    "for ds in lib_rm_db_s5:\n",
    "    for exc in filter(technosphere, ds[\"exchanges\"]):\n",
    "        if EI_DB_NAME in exc[\"database\"]:\n",
    "            exc_ds = [\n",
    "                d for d in bw.Database(EI_WIND_GLOBAL) if \n",
    "                d[\"name\"] == exc[\"name\"] and\n",
    "                d[\"reference product\"] == exc[\"product\"] and\n",
    "                d[\"location\"] == exc[\"location\"] and\n",
    "                d[\"unit\"] == exc[\"unit\"]\n",
    "                ][0]\n",
    "                \n",
    "            exc.update(\n",
    "                {\n",
    "                    \"input\": (exc_ds[\"database\"], exc_ds[\"code\"])\n",
    "                }\n",
    "            )"
   ]
  },
  {
   "cell_type": "code",
   "execution_count": 34,
   "metadata": {},
   "outputs": [
    {
     "name": "stderr",
     "output_type": "stream",
     "text": [
      "Writing activities to SQLite3 database:\n"
     ]
    },
    {
     "name": "stdout",
     "output_type": "stream",
     "text": [
      "33 datasets\n",
      "477 exchanges\n",
      "0 unlinked exchanges\n",
      "  \n"
     ]
    },
    {
     "name": "stderr",
     "output_type": "stream",
     "text": [
      "0% [##############################] 100% | ETA: 00:00:00\n",
      "Total time elapsed: 00:00:00\n"
     ]
    },
    {
     "name": "stdout",
     "output_type": "stream",
     "text": [
      "Title: Writing activities to SQLite3 database:\n",
      "  Started: 04/04/2024 13:35:35\n",
      "  Finished: 04/04/2024 13:35:35\n",
      "  Total time elapsed: 00:00:00\n",
      "  CPU %: 40.10\n",
      "  Memory %: 4.53\n",
      "Created database: EV battery metals, + wind power in all activities\n"
     ]
    }
   ],
   "source": [
    "if dbs_strategies[\"GLOBAL_ELEC\"] in bw.databases:\n",
    "    del bw.databases[dbs_strategies[\"GLOBAL_ELEC\"]]\n",
    "wurst.write_brightway2_database(lib_rm_db_s5, dbs_strategies[\"GLOBAL_ELEC\"])"
   ]
  },
  {
   "cell_type": "markdown",
   "metadata": {},
   "source": [
    "### Calculte mitigation potential "
   ]
  },
  {
   "cell_type": "code",
   "execution_count": 35,
   "metadata": {},
   "outputs": [],
   "source": [
    "mitigation_potential = {\n",
    "        db: {\n",
    "            rm: 0 \n",
    "            for rm in INVENTORIES.keys()} \n",
    "            for db in list(dbs_strategies.keys())\n",
    "        }\n",
    "\n",
    "for db in dbs_strategies:\n",
    "    for rm in INVENTORIES:\n",
    "        rm_ds = [ds for ds in bw.Database(dbs_strategies[db])\n",
    "                    if ds['name'] == INVENTORIES[rm][0] \n",
    "                    and ds['reference product'] == INVENTORIES[rm][1]\n",
    "                    and ds['location'] == INVENTORIES[rm][2]][0]\n",
    "        impacts = supporting_functions.multi_lcia(rm_ds, IMPACT_METHODS)\n",
    "        mitigation_potential[db][rm] = impacts"
   ]
  },
  {
   "cell_type": "code",
   "execution_count": 36,
   "metadata": {},
   "outputs": [],
   "source": [
    "mitigation_potential = {outer_key: {\n",
    "    inner_key: sub_dict[\"Climate change\"] \n",
    "    for inner_key, sub_dict in inner_dict.items()} \n",
    "    for outer_key, inner_dict in mitigation_potential.items()\n",
    "}"
   ]
  },
  {
   "cell_type": "code",
   "execution_count": 37,
   "metadata": {},
   "outputs": [],
   "source": [
    "# Export mitigation potential results\n",
    "pd.DataFrame(mitigation_potential).to_csv(DATA_DIR / \"results\" / f\"fig4_actual_mitigaiton_potential_{datetime.datetime.today().strftime('%d-%m-%Y')}.csv\", index_label=\"Metal\")"
   ]
  },
  {
   "cell_type": "code",
   "execution_count": null,
   "metadata": {},
   "outputs": [],
   "source": []
  }
 ],
 "metadata": {
  "kernelspec": {
   "display_name": "iri_ei39",
   "language": "python",
   "name": "python3"
  },
  "language_info": {
   "codemirror_mode": {
    "name": "ipython",
    "version": 3
   },
   "file_extension": ".py",
   "mimetype": "text/x-python",
   "name": "python",
   "nbconvert_exporter": "python",
   "pygments_lexer": "ipython3",
   "version": "3.11.0"
  }
 },
 "nbformat": 4,
 "nbformat_minor": 2
}
