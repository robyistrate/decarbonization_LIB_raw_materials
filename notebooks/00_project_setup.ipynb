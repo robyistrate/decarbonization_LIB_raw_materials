{
 "cells": [
  {
   "cell_type": "markdown",
   "metadata": {},
   "source": [
    "# Set-up BW project\n",
    "\n",
    "Import ecoinvent & biosphere databases and LCIs for LIB raw materials production\n",
    "\n",
    "*Note: The results presented in the scientific article were produced with ecoinvent 3.10 cut-off system model*"
   ]
  },
  {
   "cell_type": "code",
   "execution_count": 1,
   "metadata": {},
   "outputs": [],
   "source": [
    "%run _imports.ipynb\n",
    "\n",
    "# Open BW project\n",
    "BW_PROJECT = 'lib_rm' # insert your project name here\n",
    "bw.projects.set_current(BW_PROJECT)"
   ]
  },
  {
   "cell_type": "code",
   "execution_count": 2,
   "metadata": {},
   "outputs": [
    {
     "name": "stdout",
     "output_type": "stream",
     "text": [
      "Ecoinvent database already installed\n"
     ]
    }
   ],
   "source": [
    "# Import ecoinvent database\n",
    "EI_USERNAME = \"xxxxx\"           # add ecoinvent credentials\n",
    "EI_PASS = \"yyyyyyyyyyy\"         # add ecoinvent credentials\n",
    "\n",
    "if \"ecoinvent-3.10-cutoff\" in bw.databases:\n",
    "    print('Ecoinvent database already installed')\n",
    "else:\n",
    "    bw.import_ecoinvent_release(\n",
    "        version=\"3.10\", \n",
    "        system_model='cutoff', \n",
    "        username=EI_USERNAME,\n",
    "        password=EI_PASS\n",
    "        )"
   ]
  },
  {
   "cell_type": "code",
   "execution_count": 3,
   "metadata": {},
   "outputs": [
    {
     "name": "stdout",
     "output_type": "stream",
     "text": [
      "Extracted 7 worksheets in 0.50 seconds\n",
      "Applying strategy: csv_restore_tuples\n",
      "Applying strategy: csv_restore_booleans\n",
      "Applying strategy: csv_numerize\n",
      "Applying strategy: csv_drop_unknown\n",
      "Applying strategy: csv_add_missing_exchanges_section\n",
      "Applying strategy: normalize_units\n",
      "Applying strategy: normalize_biosphere_categories\n",
      "Applying strategy: normalize_biosphere_names\n",
      "Applying strategy: strip_biosphere_exc_locations\n",
      "Applying strategy: set_code_by_activity_hash\n",
      "Applying strategy: link_iterable_by_fields\n",
      "Applying strategy: assign_only_product_as_production\n",
      "Applying strategy: link_technosphere_by_activity_hash\n",
      "Applying strategy: drop_falsey_uncertainty_fields_but_keep_zeros\n",
      "Applying strategy: convert_uncertainty_types_to_integers\n",
      "Applying strategy: convert_activity_parameters_to_list\n",
      "Applied 16 strategies in 5.12 seconds\n",
      "Applying strategy: link_iterable_by_fields\n",
      "Applying strategy: link_iterable_by_fields\n"
     ]
    }
   ],
   "source": [
    "# Import LIB raw materials LCIs\n",
    "lci_lib_rms = bw.ExcelImporter(INVENTORIES_PATH)\n",
    "lci_lib_rms.apply_strategies()\n",
    "lci_lib_rms.match_database(\"ecoinvent-3.10-cutoff\", fields=('name', 'reference product', 'unit', 'location'))\n",
    "lci_lib_rms.match_database(\"ecoinvent-3.10-biosphere\", fields=('name', 'unit', 'categories'))"
   ]
  },
  {
   "cell_type": "code",
   "execution_count": 4,
   "metadata": {},
   "outputs": [],
   "source": [
    "# Add uncertainty data for pedigree matrix\n",
    "for ds in lci_lib_rms.data:\n",
    "    for exc in ds[\"exchanges\"]:\n",
    "        if \"pedigree\" in exc:\n",
    "\n",
    "            # Pedigree are stored as strings\n",
    "            pedigree_str = exc[\"pedigree\"].strip(\"()\")\n",
    "            pedigre_scores = tuple([int(x) for x in pedigree_str.split(\", \")])\n",
    "            exc_amount = exc[\"amount\"]\n",
    "\n",
    "            uncertainty_dict = supporting_functions.create_pedigree_matrix(pedigre_scores, exc_amount)\n",
    "            exc.update(uncertainty_dict)"
   ]
  },
  {
   "cell_type": "code",
   "execution_count": 5,
   "metadata": {},
   "outputs": [
    {
     "name": "stderr",
     "output_type": "stream",
     "text": [
      "Writing activities to SQLite3 database:\n",
      "0% [##############################] 100% | ETA: 00:00:00\n",
      "Total time elapsed: 00:00:00\n"
     ]
    },
    {
     "name": "stdout",
     "output_type": "stream",
     "text": [
      "Title: Writing activities to SQLite3 database:\n",
      "  Started: 08/29/2024 14:44:00\n",
      "  Finished: 08/29/2024 14:44:00\n",
      "  Total time elapsed: 00:00:00\n",
      "  CPU %: 28.40\n",
      "  Memory %: 2.32\n",
      "Created database: LIB raw materials\n"
     ]
    }
   ],
   "source": [
    "# Write LCIs to database\n",
    "lci_lib_rms.write_database()"
   ]
  },
  {
   "cell_type": "code",
   "execution_count": 6,
   "metadata": {},
   "outputs": [],
   "source": [
    "for ds in lci_lib_rms.data:\n",
    "    for exc in ds['exchanges']:\n",
    "        if 'amount' not in exc:\n",
    "            print(\"Missing `amount` in exc:\")\n",
    "            print(\"\\t\", exc)\n",
    "            print(\"Dataset\", ds['name'], ds['location'])\n",
    "        elif 'input' not in exc:\n",
    "            # check just to make sure\n",
    "            print(\"Missing `input` in exc:\")\n",
    "            print(\"\\t\", exc)\n",
    "            print(\"Dataset\", ds['name'], ds['location'])  "
   ]
  },
  {
   "cell_type": "code",
   "execution_count": null,
   "metadata": {},
   "outputs": [],
   "source": []
  }
 ],
 "metadata": {
  "kernelspec": {
   "display_name": "iri_ei39",
   "language": "python",
   "name": "python3"
  },
  "language_info": {
   "codemirror_mode": {
    "name": "ipython",
    "version": 3
   },
   "file_extension": ".py",
   "mimetype": "text/x-python",
   "name": "python",
   "nbconvert_exporter": "python",
   "pygments_lexer": "ipython3",
   "version": "3.11.8"
  }
 },
 "nbformat": 4,
 "nbformat_minor": 2
}
